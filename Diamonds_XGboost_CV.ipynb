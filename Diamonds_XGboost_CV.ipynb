{
 "cells": [
  {
   "cell_type": "code",
   "execution_count": 1,
   "metadata": {
    "scrolled": false
   },
   "outputs": [
    {
     "name": "stdout",
     "output_type": "stream",
     "text": [
      "Requirement already satisfied: xgboost in /opt/anaconda3/lib/python3.7/site-packages (1.2.1)\n",
      "Requirement already satisfied: scipy in /opt/anaconda3/lib/python3.7/site-packages (from xgboost) (1.3.1)\n",
      "Requirement already satisfied: numpy in /opt/anaconda3/lib/python3.7/site-packages (from xgboost) (1.17.2)\n",
      "\u001b[33mWARNING: You are using pip version 20.2.3; however, version 20.3.1 is available.\n",
      "You should consider upgrading via the '/opt/anaconda3/bin/python -m pip install --upgrade pip' command.\u001b[0m\n",
      "Note: you may need to restart the kernel to use updated packages.\n"
     ]
    }
   ],
   "source": [
    "pip install xgboost"
   ]
  },
  {
   "cell_type": "code",
   "execution_count": 2,
   "metadata": {},
   "outputs": [
    {
     "name": "stdout",
     "output_type": "stream",
     "text": [
      "Requirement already up-to-date: xgboost in /opt/anaconda3/lib/python3.7/site-packages (1.2.1)\n",
      "Requirement already satisfied, skipping upgrade: scipy in /opt/anaconda3/lib/python3.7/site-packages (from xgboost) (1.3.1)\n",
      "Requirement already satisfied, skipping upgrade: numpy in /opt/anaconda3/lib/python3.7/site-packages (from xgboost) (1.17.2)\n",
      "\u001b[33mWARNING: You are using pip version 20.2.3; however, version 20.3.1 is available.\n",
      "You should consider upgrading via the '/opt/anaconda3/bin/python -m pip install --upgrade pip' command.\u001b[0m\n",
      "Note: you may need to restart the kernel to use updated packages.\n"
     ]
    }
   ],
   "source": [
    "pip install --upgrade xgboost"
   ]
  },
  {
   "cell_type": "code",
   "execution_count": 52,
   "metadata": {},
   "outputs": [],
   "source": [
    "import pandas as pd\n",
    "import numpy as np\n",
    "\n",
    "pd.set_option('display.max_columns', None)\n",
    "pd.set_option('display.max_rows', None)\n",
    "\n",
    "import warnings\n",
    "warnings.filterwarnings('ignore')\n",
    "\n",
    "from sklearn.experimental import enable_iterative_imputer\n",
    "from sklearn.impute import IterativeImputer\n",
    "\n",
    "from sklearn.preprocessing import LabelEncoder\n",
    "from sklearn.model_selection import train_test_split\n",
    "\n",
    "from sklearn.ensemble import RandomForestClassifier\n",
    "from xgboost import XGBClassifier\n",
    "from sklearn.metrics import accuracy_score, r2_score, make_scorer, f1_score, recall_score, precision_score\n",
    "from sklearn.model_selection import GridSearchCV\n",
    "\n",
    "import seaborn as sns\n",
    "import matplotlib.pyplot as plt\n",
    "\n",
    "import pickle"
   ]
  },
  {
   "cell_type": "code",
   "execution_count": 121,
   "metadata": {},
   "outputs": [
    {
     "name": "stdout",
     "output_type": "stream",
     "text": [
      "2020Diamind_XZ_1206.csv            Diamonds_feature_importance.ipynb\r\n"
     ]
    }
   ],
   "source": [
    "ls"
   ]
  },
  {
   "cell_type": "code",
   "execution_count": 122,
   "metadata": {},
   "outputs": [
    {
     "data": {
      "text/html": [
       "<div>\n",
       "<style scoped>\n",
       "    .dataframe tbody tr th:only-of-type {\n",
       "        vertical-align: middle;\n",
       "    }\n",
       "\n",
       "    .dataframe tbody tr th {\n",
       "        vertical-align: top;\n",
       "    }\n",
       "\n",
       "    .dataframe thead th {\n",
       "        text-align: right;\n",
       "    }\n",
       "</style>\n",
       "<table border=\"1\" class=\"dataframe\">\n",
       "  <thead>\n",
       "    <tr style=\"text-align: right;\">\n",
       "      <th></th>\n",
       "      <th>Unnamed: 0</th>\n",
       "      <th>craton</th>\n",
       "      <th>Si</th>\n",
       "      <th>Ti</th>\n",
       "      <th>Al</th>\n",
       "      <th>Cr</th>\n",
       "      <th>V</th>\n",
       "      <th>Mn</th>\n",
       "      <th>Mg</th>\n",
       "      <th>Ca</th>\n",
       "      <th>Sr</th>\n",
       "      <th>Ba</th>\n",
       "      <th>Na</th>\n",
       "      <th>P</th>\n",
       "      <th>K</th>\n",
       "      <th>Fe</th>\n",
       "      <th>Co</th>\n",
       "      <th>Ni</th>\n",
       "      <th>S</th>\n",
       "      <th>Zn</th>\n",
       "      <th>Cr_trace</th>\n",
       "      <th>Co_trace</th>\n",
       "      <th>Ni_trace</th>\n",
       "      <th>Sr_trace</th>\n",
       "      <th>Y_trace</th>\n",
       "      <th>Zr_trace</th>\n",
       "      <th>Nb_trace</th>\n",
       "      <th>Ba_trace</th>\n",
       "      <th>La_trace</th>\n",
       "      <th>Ce_trace</th>\n",
       "      <th>Nd_trace</th>\n",
       "      <th>Sm_trace</th>\n",
       "      <th>Eu_trace</th>\n",
       "      <th>Dy_trace</th>\n",
       "      <th>Er_trace</th>\n",
       "      <th>Yb_trace</th>\n",
       "      <th>Ti_trace</th>\n",
       "      <th>Fe_trace</th>\n",
       "      <th>Al_trace</th>\n",
       "      <th>Ca_trace</th>\n",
       "      <th>Mn_trace</th>\n",
       "      <th>Mg_trace</th>\n",
       "      <th>NAs</th>\n",
       "    </tr>\n",
       "  </thead>\n",
       "  <tbody>\n",
       "    <tr>\n",
       "      <th>0</th>\n",
       "      <td>1</td>\n",
       "      <td>Guyana</td>\n",
       "      <td>0.000</td>\n",
       "      <td>30.354</td>\n",
       "      <td>0.008</td>\n",
       "      <td>0.027</td>\n",
       "      <td>0.0</td>\n",
       "      <td>0.364</td>\n",
       "      <td>0.270</td>\n",
       "      <td>0.017</td>\n",
       "      <td>0.0</td>\n",
       "      <td>0.0</td>\n",
       "      <td>0.024</td>\n",
       "      <td>0.0</td>\n",
       "      <td>0.027</td>\n",
       "      <td>37.022</td>\n",
       "      <td>0.0</td>\n",
       "      <td>0.038</td>\n",
       "      <td>0.0</td>\n",
       "      <td>0.0</td>\n",
       "      <td>260.0</td>\n",
       "      <td>56.0</td>\n",
       "      <td>181.0</td>\n",
       "      <td>0.2</td>\n",
       "      <td>0.300</td>\n",
       "      <td>27.4</td>\n",
       "      <td>335.0</td>\n",
       "      <td>4.00</td>\n",
       "      <td>0.600</td>\n",
       "      <td>2.100</td>\n",
       "      <td>0.60</td>\n",
       "      <td>0.192</td>\n",
       "      <td>0.076</td>\n",
       "      <td>0.147</td>\n",
       "      <td>0.224</td>\n",
       "      <td>0.100</td>\n",
       "      <td>NaN</td>\n",
       "      <td>NaN</td>\n",
       "      <td>NaN</td>\n",
       "      <td>55.640</td>\n",
       "      <td>3251.0</td>\n",
       "      <td>NaN</td>\n",
       "      <td>48</td>\n",
       "    </tr>\n",
       "    <tr>\n",
       "      <th>1</th>\n",
       "      <td>2</td>\n",
       "      <td>Guyana</td>\n",
       "      <td>0.014</td>\n",
       "      <td>32.008</td>\n",
       "      <td>0.048</td>\n",
       "      <td>0.027</td>\n",
       "      <td>0.0</td>\n",
       "      <td>0.395</td>\n",
       "      <td>0.342</td>\n",
       "      <td>0.029</td>\n",
       "      <td>0.0</td>\n",
       "      <td>0.0</td>\n",
       "      <td>0.024</td>\n",
       "      <td>0.0</td>\n",
       "      <td>0.033</td>\n",
       "      <td>33.281</td>\n",
       "      <td>0.0</td>\n",
       "      <td>0.094</td>\n",
       "      <td>0.0</td>\n",
       "      <td>0.0</td>\n",
       "      <td>4172.0</td>\n",
       "      <td>429.0</td>\n",
       "      <td>6375.0</td>\n",
       "      <td>0.4</td>\n",
       "      <td>0.800</td>\n",
       "      <td>56.6</td>\n",
       "      <td>227.0</td>\n",
       "      <td>3.20</td>\n",
       "      <td>0.700</td>\n",
       "      <td>2.400</td>\n",
       "      <td>2.50</td>\n",
       "      <td>0.312</td>\n",
       "      <td>0.111</td>\n",
       "      <td>0.129</td>\n",
       "      <td>0.392</td>\n",
       "      <td>0.328</td>\n",
       "      <td>NaN</td>\n",
       "      <td>NaN</td>\n",
       "      <td>NaN</td>\n",
       "      <td>97.424</td>\n",
       "      <td>1887.0</td>\n",
       "      <td>NaN</td>\n",
       "      <td>48</td>\n",
       "    </tr>\n",
       "    <tr>\n",
       "      <th>2</th>\n",
       "      <td>3</td>\n",
       "      <td>Guyana</td>\n",
       "      <td>0.070</td>\n",
       "      <td>0.689</td>\n",
       "      <td>1.138</td>\n",
       "      <td>2.155</td>\n",
       "      <td>0.0</td>\n",
       "      <td>0.201</td>\n",
       "      <td>29.868</td>\n",
       "      <td>0.017</td>\n",
       "      <td>0.0</td>\n",
       "      <td>0.0</td>\n",
       "      <td>0.024</td>\n",
       "      <td>0.0</td>\n",
       "      <td>0.027</td>\n",
       "      <td>36.369</td>\n",
       "      <td>0.0</td>\n",
       "      <td>0.809</td>\n",
       "      <td>0.0</td>\n",
       "      <td>0.0</td>\n",
       "      <td>2944.0</td>\n",
       "      <td>155.0</td>\n",
       "      <td>790.0</td>\n",
       "      <td>1.6</td>\n",
       "      <td>0.144</td>\n",
       "      <td>25.2</td>\n",
       "      <td>4.8</td>\n",
       "      <td>0.56</td>\n",
       "      <td>0.096</td>\n",
       "      <td>0.056</td>\n",
       "      <td>0.32</td>\n",
       "      <td>0.400</td>\n",
       "      <td>0.160</td>\n",
       "      <td>0.320</td>\n",
       "      <td>0.640</td>\n",
       "      <td>0.320</td>\n",
       "      <td>NaN</td>\n",
       "      <td>NaN</td>\n",
       "      <td>NaN</td>\n",
       "      <td>156.800</td>\n",
       "      <td>2397.0</td>\n",
       "      <td>NaN</td>\n",
       "      <td>48</td>\n",
       "    </tr>\n",
       "    <tr>\n",
       "      <th>3</th>\n",
       "      <td>4</td>\n",
       "      <td>Guyana</td>\n",
       "      <td>0.005</td>\n",
       "      <td>30.102</td>\n",
       "      <td>0.008</td>\n",
       "      <td>0.027</td>\n",
       "      <td>0.0</td>\n",
       "      <td>0.565</td>\n",
       "      <td>0.072</td>\n",
       "      <td>0.021</td>\n",
       "      <td>0.0</td>\n",
       "      <td>0.0</td>\n",
       "      <td>0.024</td>\n",
       "      <td>0.0</td>\n",
       "      <td>0.027</td>\n",
       "      <td>35.941</td>\n",
       "      <td>0.0</td>\n",
       "      <td>0.038</td>\n",
       "      <td>0.0</td>\n",
       "      <td>0.0</td>\n",
       "      <td>153.0</td>\n",
       "      <td>53.0</td>\n",
       "      <td>13.0</td>\n",
       "      <td>0.2</td>\n",
       "      <td>0.300</td>\n",
       "      <td>348.7</td>\n",
       "      <td>646.0</td>\n",
       "      <td>2.30</td>\n",
       "      <td>0.500</td>\n",
       "      <td>1.900</td>\n",
       "      <td>0.70</td>\n",
       "      <td>0.300</td>\n",
       "      <td>0.069</td>\n",
       "      <td>0.186</td>\n",
       "      <td>0.248</td>\n",
       "      <td>0.154</td>\n",
       "      <td>NaN</td>\n",
       "      <td>NaN</td>\n",
       "      <td>NaN</td>\n",
       "      <td>71.488</td>\n",
       "      <td>2898.0</td>\n",
       "      <td>NaN</td>\n",
       "      <td>48</td>\n",
       "    </tr>\n",
       "    <tr>\n",
       "      <th>4</th>\n",
       "      <td>5</td>\n",
       "      <td>Guyana</td>\n",
       "      <td>0.028</td>\n",
       "      <td>32.464</td>\n",
       "      <td>0.069</td>\n",
       "      <td>0.027</td>\n",
       "      <td>0.0</td>\n",
       "      <td>0.325</td>\n",
       "      <td>0.300</td>\n",
       "      <td>0.017</td>\n",
       "      <td>0.0</td>\n",
       "      <td>0.0</td>\n",
       "      <td>0.024</td>\n",
       "      <td>0.0</td>\n",
       "      <td>0.027</td>\n",
       "      <td>31.290</td>\n",
       "      <td>0.0</td>\n",
       "      <td>0.055</td>\n",
       "      <td>0.0</td>\n",
       "      <td>0.0</td>\n",
       "      <td>NaN</td>\n",
       "      <td>NaN</td>\n",
       "      <td>NaN</td>\n",
       "      <td>0.3</td>\n",
       "      <td>0.500</td>\n",
       "      <td>68.7</td>\n",
       "      <td>205.0</td>\n",
       "      <td>8.80</td>\n",
       "      <td>0.800</td>\n",
       "      <td>2.900</td>\n",
       "      <td>0.70</td>\n",
       "      <td>0.100</td>\n",
       "      <td>0.000</td>\n",
       "      <td>0.100</td>\n",
       "      <td>0.256</td>\n",
       "      <td>0.500</td>\n",
       "      <td>NaN</td>\n",
       "      <td>NaN</td>\n",
       "      <td>NaN</td>\n",
       "      <td>67.304</td>\n",
       "      <td>NaN</td>\n",
       "      <td>NaN</td>\n",
       "      <td>53</td>\n",
       "    </tr>\n",
       "  </tbody>\n",
       "</table>\n",
       "</div>"
      ],
      "text/plain": [
       "   Unnamed: 0  craton     Si      Ti     Al     Cr    V     Mn      Mg     Ca  \\\n",
       "0           1  Guyana  0.000  30.354  0.008  0.027  0.0  0.364   0.270  0.017   \n",
       "1           2  Guyana  0.014  32.008  0.048  0.027  0.0  0.395   0.342  0.029   \n",
       "2           3  Guyana  0.070   0.689  1.138  2.155  0.0  0.201  29.868  0.017   \n",
       "3           4  Guyana  0.005  30.102  0.008  0.027  0.0  0.565   0.072  0.021   \n",
       "4           5  Guyana  0.028  32.464  0.069  0.027  0.0  0.325   0.300  0.017   \n",
       "\n",
       "    Sr   Ba     Na    P      K      Fe   Co     Ni    S   Zn  Cr_trace  \\\n",
       "0  0.0  0.0  0.024  0.0  0.027  37.022  0.0  0.038  0.0  0.0     260.0   \n",
       "1  0.0  0.0  0.024  0.0  0.033  33.281  0.0  0.094  0.0  0.0    4172.0   \n",
       "2  0.0  0.0  0.024  0.0  0.027  36.369  0.0  0.809  0.0  0.0    2944.0   \n",
       "3  0.0  0.0  0.024  0.0  0.027  35.941  0.0  0.038  0.0  0.0     153.0   \n",
       "4  0.0  0.0  0.024  0.0  0.027  31.290  0.0  0.055  0.0  0.0       NaN   \n",
       "\n",
       "   Co_trace  Ni_trace  Sr_trace  Y_trace  Zr_trace  Nb_trace  Ba_trace  \\\n",
       "0      56.0     181.0       0.2    0.300      27.4     335.0      4.00   \n",
       "1     429.0    6375.0       0.4    0.800      56.6     227.0      3.20   \n",
       "2     155.0     790.0       1.6    0.144      25.2       4.8      0.56   \n",
       "3      53.0      13.0       0.2    0.300     348.7     646.0      2.30   \n",
       "4       NaN       NaN       0.3    0.500      68.7     205.0      8.80   \n",
       "\n",
       "   La_trace  Ce_trace  Nd_trace  Sm_trace  Eu_trace  Dy_trace  Er_trace  \\\n",
       "0     0.600     2.100      0.60     0.192     0.076     0.147     0.224   \n",
       "1     0.700     2.400      2.50     0.312     0.111     0.129     0.392   \n",
       "2     0.096     0.056      0.32     0.400     0.160     0.320     0.640   \n",
       "3     0.500     1.900      0.70     0.300     0.069     0.186     0.248   \n",
       "4     0.800     2.900      0.70     0.100     0.000     0.100     0.256   \n",
       "\n",
       "   Yb_trace  Ti_trace  Fe_trace  Al_trace  Ca_trace  Mn_trace  Mg_trace  NAs  \n",
       "0     0.100       NaN       NaN       NaN    55.640    3251.0       NaN   48  \n",
       "1     0.328       NaN       NaN       NaN    97.424    1887.0       NaN   48  \n",
       "2     0.320       NaN       NaN       NaN   156.800    2397.0       NaN   48  \n",
       "3     0.154       NaN       NaN       NaN    71.488    2898.0       NaN   48  \n",
       "4     0.500       NaN       NaN       NaN    67.304       NaN       NaN   53  "
      ]
     },
     "execution_count": 122,
     "metadata": {},
     "output_type": "execute_result"
    }
   ],
   "source": [
    "df_raw = pd.read_csv(\"2020Diamind_XZ_1206.csv\")\n",
    "df_raw.head()"
   ]
  },
  {
   "cell_type": "markdown",
   "metadata": {},
   "source": [
    "### Data Preprocessing"
   ]
  },
  {
   "cell_type": "code",
   "execution_count": 123,
   "metadata": {},
   "outputs": [],
   "source": [
    "#df_raw['Method（主量）'].unique()"
   ]
  },
  {
   "cell_type": "code",
   "execution_count": 124,
   "metadata": {},
   "outputs": [],
   "source": [
    "#df_raw['Comment（Inclusion/Sulfide）'].unique()"
   ]
  },
  {
   "cell_type": "code",
   "execution_count": 125,
   "metadata": {},
   "outputs": [
    {
     "data": {
      "text/plain": [
       "(1264, 43)"
      ]
     },
     "execution_count": 125,
     "metadata": {},
     "output_type": "execute_result"
    }
   ],
   "source": [
    "df = df_raw.copy()\n",
    "df.shape"
   ]
  },
  {
   "cell_type": "code",
   "execution_count": 126,
   "metadata": {},
   "outputs": [
    {
     "data": {
      "text/plain": [
       "Index(['Unnamed: 0', 'craton', 'Si', 'Ti', 'Al', 'Cr', 'V', 'Mn', 'Mg', 'Ca',\n",
       "       'Sr', 'Ba', 'Na', 'P', 'K', 'Fe', 'Co', 'Ni', 'S', 'Zn', 'Cr_trace',\n",
       "       'Co_trace', 'Ni_trace', 'Sr_trace', 'Y_trace', 'Zr_trace', 'Nb_trace',\n",
       "       'Ba_trace', 'La_trace', 'Ce_trace', 'Nd_trace', 'Sm_trace', 'Eu_trace',\n",
       "       'Dy_trace', 'Er_trace', 'Yb_trace', 'Ti_trace', 'Fe_trace', 'Al_trace',\n",
       "       'Ca_trace', 'Mn_trace', 'Mg_trace', 'NAs'],\n",
       "      dtype='object')"
      ]
     },
     "execution_count": 126,
     "metadata": {},
     "output_type": "execute_result"
    }
   ],
   "source": [
    "df.columns #Keep NA to see NA's impact"
   ]
  },
  {
   "cell_type": "code",
   "execution_count": 127,
   "metadata": {},
   "outputs": [
    {
     "data": {
      "text/plain": [
       "(1264, 43)"
      ]
     },
     "execution_count": 127,
     "metadata": {},
     "output_type": "execute_result"
    }
   ],
   "source": [
    "df.drop(df.columns[df.isna().mean() == 1], axis=1, inplace=True)  # Remove columns that 100% missing \n",
    "df.shape"
   ]
  },
  {
   "cell_type": "code",
   "execution_count": 128,
   "metadata": {},
   "outputs": [],
   "source": [
    "#df.drop(['Unnamed: 0', 'ID', 'DOI', 'Reference', 'location', 'location comment', 'location',  'GPS Location',\n",
    "        # 'Diamond_Method', 'Inclusion_Method', 'sample', 'mineral（Diamond/Inclusion/Sulfide）', \n",
    "       # 'Method（主量）', 'Comment（Inclusion/Sulfide）'], \n",
    "       # axis = 1, inplace=True)\n",
    "#df.shape"
   ]
  },
  {
   "cell_type": "code",
   "execution_count": 129,
   "metadata": {},
   "outputs": [],
   "source": [
    "df=df.drop(df.columns[0], axis=1)"
   ]
  },
  {
   "cell_type": "code",
   "execution_count": 130,
   "metadata": {},
   "outputs": [],
   "source": [
    "df=df.drop('NAs', axis=1)"
   ]
  },
  {
   "cell_type": "code",
   "execution_count": 131,
   "metadata": {},
   "outputs": [
    {
     "data": {
      "text/html": [
       "<div>\n",
       "<style scoped>\n",
       "    .dataframe tbody tr th:only-of-type {\n",
       "        vertical-align: middle;\n",
       "    }\n",
       "\n",
       "    .dataframe tbody tr th {\n",
       "        vertical-align: top;\n",
       "    }\n",
       "\n",
       "    .dataframe thead th {\n",
       "        text-align: right;\n",
       "    }\n",
       "</style>\n",
       "<table border=\"1\" class=\"dataframe\">\n",
       "  <thead>\n",
       "    <tr style=\"text-align: right;\">\n",
       "      <th></th>\n",
       "      <th>craton</th>\n",
       "      <th>Si</th>\n",
       "      <th>Ti</th>\n",
       "      <th>Al</th>\n",
       "      <th>Cr</th>\n",
       "      <th>V</th>\n",
       "      <th>Mn</th>\n",
       "      <th>Mg</th>\n",
       "      <th>Ca</th>\n",
       "      <th>Sr</th>\n",
       "      <th>Ba</th>\n",
       "      <th>Na</th>\n",
       "      <th>P</th>\n",
       "      <th>K</th>\n",
       "      <th>Fe</th>\n",
       "      <th>Co</th>\n",
       "      <th>Ni</th>\n",
       "      <th>S</th>\n",
       "      <th>Zn</th>\n",
       "      <th>Cr_trace</th>\n",
       "      <th>Co_trace</th>\n",
       "      <th>Ni_trace</th>\n",
       "      <th>Sr_trace</th>\n",
       "      <th>Y_trace</th>\n",
       "      <th>Zr_trace</th>\n",
       "      <th>Nb_trace</th>\n",
       "      <th>Ba_trace</th>\n",
       "      <th>La_trace</th>\n",
       "      <th>Ce_trace</th>\n",
       "      <th>Nd_trace</th>\n",
       "      <th>Sm_trace</th>\n",
       "      <th>Eu_trace</th>\n",
       "      <th>Dy_trace</th>\n",
       "      <th>Er_trace</th>\n",
       "      <th>Yb_trace</th>\n",
       "      <th>Ti_trace</th>\n",
       "      <th>Fe_trace</th>\n",
       "      <th>Al_trace</th>\n",
       "      <th>Ca_trace</th>\n",
       "      <th>Mn_trace</th>\n",
       "      <th>Mg_trace</th>\n",
       "    </tr>\n",
       "  </thead>\n",
       "  <tbody>\n",
       "    <tr>\n",
       "      <th>0</th>\n",
       "      <td>Guyana</td>\n",
       "      <td>0.000</td>\n",
       "      <td>30.354</td>\n",
       "      <td>0.008</td>\n",
       "      <td>0.027</td>\n",
       "      <td>0.0</td>\n",
       "      <td>0.364</td>\n",
       "      <td>0.270</td>\n",
       "      <td>0.017</td>\n",
       "      <td>0.0</td>\n",
       "      <td>0.0</td>\n",
       "      <td>0.024</td>\n",
       "      <td>0.0</td>\n",
       "      <td>0.027</td>\n",
       "      <td>37.022</td>\n",
       "      <td>0.0</td>\n",
       "      <td>0.038</td>\n",
       "      <td>0.0</td>\n",
       "      <td>0.0</td>\n",
       "      <td>260.0</td>\n",
       "      <td>56.0</td>\n",
       "      <td>181.0</td>\n",
       "      <td>0.2</td>\n",
       "      <td>0.300</td>\n",
       "      <td>27.4</td>\n",
       "      <td>335.0</td>\n",
       "      <td>4.00</td>\n",
       "      <td>0.600</td>\n",
       "      <td>2.100</td>\n",
       "      <td>0.60</td>\n",
       "      <td>0.192</td>\n",
       "      <td>0.076</td>\n",
       "      <td>0.147</td>\n",
       "      <td>0.224</td>\n",
       "      <td>0.100</td>\n",
       "      <td>NaN</td>\n",
       "      <td>NaN</td>\n",
       "      <td>NaN</td>\n",
       "      <td>55.640</td>\n",
       "      <td>3251.0</td>\n",
       "      <td>NaN</td>\n",
       "    </tr>\n",
       "    <tr>\n",
       "      <th>1</th>\n",
       "      <td>Guyana</td>\n",
       "      <td>0.014</td>\n",
       "      <td>32.008</td>\n",
       "      <td>0.048</td>\n",
       "      <td>0.027</td>\n",
       "      <td>0.0</td>\n",
       "      <td>0.395</td>\n",
       "      <td>0.342</td>\n",
       "      <td>0.029</td>\n",
       "      <td>0.0</td>\n",
       "      <td>0.0</td>\n",
       "      <td>0.024</td>\n",
       "      <td>0.0</td>\n",
       "      <td>0.033</td>\n",
       "      <td>33.281</td>\n",
       "      <td>0.0</td>\n",
       "      <td>0.094</td>\n",
       "      <td>0.0</td>\n",
       "      <td>0.0</td>\n",
       "      <td>4172.0</td>\n",
       "      <td>429.0</td>\n",
       "      <td>6375.0</td>\n",
       "      <td>0.4</td>\n",
       "      <td>0.800</td>\n",
       "      <td>56.6</td>\n",
       "      <td>227.0</td>\n",
       "      <td>3.20</td>\n",
       "      <td>0.700</td>\n",
       "      <td>2.400</td>\n",
       "      <td>2.50</td>\n",
       "      <td>0.312</td>\n",
       "      <td>0.111</td>\n",
       "      <td>0.129</td>\n",
       "      <td>0.392</td>\n",
       "      <td>0.328</td>\n",
       "      <td>NaN</td>\n",
       "      <td>NaN</td>\n",
       "      <td>NaN</td>\n",
       "      <td>97.424</td>\n",
       "      <td>1887.0</td>\n",
       "      <td>NaN</td>\n",
       "    </tr>\n",
       "    <tr>\n",
       "      <th>2</th>\n",
       "      <td>Guyana</td>\n",
       "      <td>0.070</td>\n",
       "      <td>0.689</td>\n",
       "      <td>1.138</td>\n",
       "      <td>2.155</td>\n",
       "      <td>0.0</td>\n",
       "      <td>0.201</td>\n",
       "      <td>29.868</td>\n",
       "      <td>0.017</td>\n",
       "      <td>0.0</td>\n",
       "      <td>0.0</td>\n",
       "      <td>0.024</td>\n",
       "      <td>0.0</td>\n",
       "      <td>0.027</td>\n",
       "      <td>36.369</td>\n",
       "      <td>0.0</td>\n",
       "      <td>0.809</td>\n",
       "      <td>0.0</td>\n",
       "      <td>0.0</td>\n",
       "      <td>2944.0</td>\n",
       "      <td>155.0</td>\n",
       "      <td>790.0</td>\n",
       "      <td>1.6</td>\n",
       "      <td>0.144</td>\n",
       "      <td>25.2</td>\n",
       "      <td>4.8</td>\n",
       "      <td>0.56</td>\n",
       "      <td>0.096</td>\n",
       "      <td>0.056</td>\n",
       "      <td>0.32</td>\n",
       "      <td>0.400</td>\n",
       "      <td>0.160</td>\n",
       "      <td>0.320</td>\n",
       "      <td>0.640</td>\n",
       "      <td>0.320</td>\n",
       "      <td>NaN</td>\n",
       "      <td>NaN</td>\n",
       "      <td>NaN</td>\n",
       "      <td>156.800</td>\n",
       "      <td>2397.0</td>\n",
       "      <td>NaN</td>\n",
       "    </tr>\n",
       "    <tr>\n",
       "      <th>3</th>\n",
       "      <td>Guyana</td>\n",
       "      <td>0.005</td>\n",
       "      <td>30.102</td>\n",
       "      <td>0.008</td>\n",
       "      <td>0.027</td>\n",
       "      <td>0.0</td>\n",
       "      <td>0.565</td>\n",
       "      <td>0.072</td>\n",
       "      <td>0.021</td>\n",
       "      <td>0.0</td>\n",
       "      <td>0.0</td>\n",
       "      <td>0.024</td>\n",
       "      <td>0.0</td>\n",
       "      <td>0.027</td>\n",
       "      <td>35.941</td>\n",
       "      <td>0.0</td>\n",
       "      <td>0.038</td>\n",
       "      <td>0.0</td>\n",
       "      <td>0.0</td>\n",
       "      <td>153.0</td>\n",
       "      <td>53.0</td>\n",
       "      <td>13.0</td>\n",
       "      <td>0.2</td>\n",
       "      <td>0.300</td>\n",
       "      <td>348.7</td>\n",
       "      <td>646.0</td>\n",
       "      <td>2.30</td>\n",
       "      <td>0.500</td>\n",
       "      <td>1.900</td>\n",
       "      <td>0.70</td>\n",
       "      <td>0.300</td>\n",
       "      <td>0.069</td>\n",
       "      <td>0.186</td>\n",
       "      <td>0.248</td>\n",
       "      <td>0.154</td>\n",
       "      <td>NaN</td>\n",
       "      <td>NaN</td>\n",
       "      <td>NaN</td>\n",
       "      <td>71.488</td>\n",
       "      <td>2898.0</td>\n",
       "      <td>NaN</td>\n",
       "    </tr>\n",
       "    <tr>\n",
       "      <th>4</th>\n",
       "      <td>Guyana</td>\n",
       "      <td>0.028</td>\n",
       "      <td>32.464</td>\n",
       "      <td>0.069</td>\n",
       "      <td>0.027</td>\n",
       "      <td>0.0</td>\n",
       "      <td>0.325</td>\n",
       "      <td>0.300</td>\n",
       "      <td>0.017</td>\n",
       "      <td>0.0</td>\n",
       "      <td>0.0</td>\n",
       "      <td>0.024</td>\n",
       "      <td>0.0</td>\n",
       "      <td>0.027</td>\n",
       "      <td>31.290</td>\n",
       "      <td>0.0</td>\n",
       "      <td>0.055</td>\n",
       "      <td>0.0</td>\n",
       "      <td>0.0</td>\n",
       "      <td>NaN</td>\n",
       "      <td>NaN</td>\n",
       "      <td>NaN</td>\n",
       "      <td>0.3</td>\n",
       "      <td>0.500</td>\n",
       "      <td>68.7</td>\n",
       "      <td>205.0</td>\n",
       "      <td>8.80</td>\n",
       "      <td>0.800</td>\n",
       "      <td>2.900</td>\n",
       "      <td>0.70</td>\n",
       "      <td>0.100</td>\n",
       "      <td>0.000</td>\n",
       "      <td>0.100</td>\n",
       "      <td>0.256</td>\n",
       "      <td>0.500</td>\n",
       "      <td>NaN</td>\n",
       "      <td>NaN</td>\n",
       "      <td>NaN</td>\n",
       "      <td>67.304</td>\n",
       "      <td>NaN</td>\n",
       "      <td>NaN</td>\n",
       "    </tr>\n",
       "  </tbody>\n",
       "</table>\n",
       "</div>"
      ],
      "text/plain": [
       "   craton     Si      Ti     Al     Cr    V     Mn      Mg     Ca   Sr   Ba  \\\n",
       "0  Guyana  0.000  30.354  0.008  0.027  0.0  0.364   0.270  0.017  0.0  0.0   \n",
       "1  Guyana  0.014  32.008  0.048  0.027  0.0  0.395   0.342  0.029  0.0  0.0   \n",
       "2  Guyana  0.070   0.689  1.138  2.155  0.0  0.201  29.868  0.017  0.0  0.0   \n",
       "3  Guyana  0.005  30.102  0.008  0.027  0.0  0.565   0.072  0.021  0.0  0.0   \n",
       "4  Guyana  0.028  32.464  0.069  0.027  0.0  0.325   0.300  0.017  0.0  0.0   \n",
       "\n",
       "      Na    P      K      Fe   Co     Ni    S   Zn  Cr_trace  Co_trace  \\\n",
       "0  0.024  0.0  0.027  37.022  0.0  0.038  0.0  0.0     260.0      56.0   \n",
       "1  0.024  0.0  0.033  33.281  0.0  0.094  0.0  0.0    4172.0     429.0   \n",
       "2  0.024  0.0  0.027  36.369  0.0  0.809  0.0  0.0    2944.0     155.0   \n",
       "3  0.024  0.0  0.027  35.941  0.0  0.038  0.0  0.0     153.0      53.0   \n",
       "4  0.024  0.0  0.027  31.290  0.0  0.055  0.0  0.0       NaN       NaN   \n",
       "\n",
       "   Ni_trace  Sr_trace  Y_trace  Zr_trace  Nb_trace  Ba_trace  La_trace  \\\n",
       "0     181.0       0.2    0.300      27.4     335.0      4.00     0.600   \n",
       "1    6375.0       0.4    0.800      56.6     227.0      3.20     0.700   \n",
       "2     790.0       1.6    0.144      25.2       4.8      0.56     0.096   \n",
       "3      13.0       0.2    0.300     348.7     646.0      2.30     0.500   \n",
       "4       NaN       0.3    0.500      68.7     205.0      8.80     0.800   \n",
       "\n",
       "   Ce_trace  Nd_trace  Sm_trace  Eu_trace  Dy_trace  Er_trace  Yb_trace  \\\n",
       "0     2.100      0.60     0.192     0.076     0.147     0.224     0.100   \n",
       "1     2.400      2.50     0.312     0.111     0.129     0.392     0.328   \n",
       "2     0.056      0.32     0.400     0.160     0.320     0.640     0.320   \n",
       "3     1.900      0.70     0.300     0.069     0.186     0.248     0.154   \n",
       "4     2.900      0.70     0.100     0.000     0.100     0.256     0.500   \n",
       "\n",
       "   Ti_trace  Fe_trace  Al_trace  Ca_trace  Mn_trace  Mg_trace  \n",
       "0       NaN       NaN       NaN    55.640    3251.0       NaN  \n",
       "1       NaN       NaN       NaN    97.424    1887.0       NaN  \n",
       "2       NaN       NaN       NaN   156.800    2397.0       NaN  \n",
       "3       NaN       NaN       NaN    71.488    2898.0       NaN  \n",
       "4       NaN       NaN       NaN    67.304       NaN       NaN  "
      ]
     },
     "execution_count": 131,
     "metadata": {},
     "output_type": "execute_result"
    }
   ],
   "source": [
    "df.head()"
   ]
  },
  {
   "cell_type": "code",
   "execution_count": 132,
   "metadata": {},
   "outputs": [
    {
     "data": {
      "text/plain": [
       "Siberia        580\n",
       "Kaapvaal       164\n",
       "Slave          160\n",
       "Congo          128\n",
       "West Africa     88\n",
       "Guyana          60\n",
       "Amazonia        59\n",
       "Unknown         18\n",
       "Kalahari         4\n",
       "Africa           3\n",
       "Name: craton, dtype: int64"
      ]
     },
     "execution_count": 132,
     "metadata": {},
     "output_type": "execute_result"
    }
   ],
   "source": [
    "df.craton.value_counts()"
   ]
  },
  {
   "cell_type": "code",
   "execution_count": 133,
   "metadata": {},
   "outputs": [
    {
     "data": {
      "text/plain": [
       "10"
      ]
     },
     "execution_count": 133,
     "metadata": {},
     "output_type": "execute_result"
    }
   ],
   "source": [
    "df.craton.nunique()"
   ]
  },
  {
   "cell_type": "code",
   "execution_count": 134,
   "metadata": {},
   "outputs": [
    {
     "data": {
      "text/plain": [
       "<matplotlib.axes._subplots.AxesSubplot at 0x1c1e17bc90>"
      ]
     },
     "execution_count": 134,
     "metadata": {},
     "output_type": "execute_result"
    },
    {
     "data": {
      "image/png": "[encoded data removed]",
      "text/plain": [
       "<Figure size 1152x432 with 1 Axes>"
      ]
     },
     "metadata": {
      "needs_background": "light"
     },
     "output_type": "display_data"
    }
   ],
   "source": [
    "plt.figure(figsize=(16, 6))\n",
    "df.craton.value_counts().plot(kind = 'bar')"
   ]
  },
  {
   "cell_type": "code",
   "execution_count": 135,
   "metadata": {},
   "outputs": [],
   "source": [
    "#df.craton = le.fit_transform(df.craton.astype(str))\n",
    "df.craton=df.craton.astype('category')"
   ]
  },
  {
   "cell_type": "code",
   "execution_count": 136,
   "metadata": {},
   "outputs": [
    {
     "data": {
      "text/plain": [
       "Siberia        580\n",
       "Kaapvaal       164\n",
       "Slave          160\n",
       "Congo          128\n",
       "West Africa     88\n",
       "Guyana          60\n",
       "Amazonia        59\n",
       "Unknown         18\n",
       "Kalahari         4\n",
       "Africa           3\n",
       "Name: craton, dtype: int64"
      ]
     },
     "execution_count": 136,
     "metadata": {},
     "output_type": "execute_result"
    }
   ],
   "source": [
    "df.craton.nunique()\n",
    "df.craton.value_counts()"
   ]
  },
  {
   "cell_type": "code",
   "execution_count": 137,
   "metadata": {},
   "outputs": [
    {
     "name": "stdout",
     "output_type": "stream",
     "text": [
      "<class 'pandas.core.frame.DataFrame'>\n",
      "RangeIndex: 1264 entries, 0 to 1263\n",
      "Data columns (total 41 columns):\n",
      " #   Column    Non-Null Count  Dtype   \n",
      "---  ------    --------------  -----   \n",
      " 0   craton    1264 non-null   category\n",
      " 1   Si        1109 non-null   float64 \n",
      " 2   Ti        1109 non-null   float64 \n",
      " 3   Al        1109 non-null   float64 \n",
      " 4   Cr        1109 non-null   float64 \n",
      " 5   V         955 non-null    float64 \n",
      " 6   Mn        1102 non-null   float64 \n",
      " 7   Mg        1109 non-null   float64 \n",
      " 8   Ca        1109 non-null   float64 \n",
      " 9   Sr        940 non-null    float64 \n",
      " 10  Ba        947 non-null    float64 \n",
      " 11  Na        1102 non-null   float64 \n",
      " 12  P         1018 non-null   float64 \n",
      " 13  K         1108 non-null   float64 \n",
      " 14  Fe        1109 non-null   float64 \n",
      " 15  Co        945 non-null    float64 \n",
      " 16  Ni        1075 non-null   float64 \n",
      " 17  S         950 non-null    float64 \n",
      " 18  Zn        945 non-null    float64 \n",
      " 19  Cr_trace  686 non-null    float64 \n",
      " 20  Co_trace  673 non-null    float64 \n",
      " 21  Ni_trace  697 non-null    float64 \n",
      " 22  Sr_trace  448 non-null    float64 \n",
      " 23  Y_trace   316 non-null    float64 \n",
      " 24  Zr_trace  383 non-null    float64 \n",
      " 25  Nb_trace  343 non-null    float64 \n",
      " 26  Ba_trace  397 non-null    float64 \n",
      " 27  La_trace  438 non-null    float64 \n",
      " 28  Ce_trace  356 non-null    float64 \n",
      " 29  Nd_trace  354 non-null    float64 \n",
      " 30  Sm_trace  351 non-null    float64 \n",
      " 31  Eu_trace  347 non-null    float64 \n",
      " 32  Dy_trace  347 non-null    float64 \n",
      " 33  Er_trace  348 non-null    float64 \n",
      " 34  Yb_trace  345 non-null    float64 \n",
      " 35  Ti_trace  1003 non-null   float64 \n",
      " 36  Fe_trace  702 non-null    float64 \n",
      " 37  Al_trace  610 non-null    float64 \n",
      " 38  Ca_trace  748 non-null    float64 \n",
      " 39  Mn_trace  693 non-null    float64 \n",
      " 40  Mg_trace  630 non-null    float64 \n",
      "dtypes: category(1), float64(40)\n",
      "memory usage: 396.8 KB\n"
     ]
    }
   ],
   "source": [
    "df.info()"
   ]
  },
  {
   "cell_type": "markdown",
   "metadata": {},
   "source": [
    "### Split data into craton and elements"
   ]
  },
  {
   "cell_type": "code",
   "execution_count": 138,
   "metadata": {},
   "outputs": [
    {
     "data": {
      "text/plain": [
       "array(['Guyana', 'Guyana', 'Guyana', ..., 'Africa', 'Africa', 'Africa'],\n",
       "      dtype='<U11')"
      ]
     },
     "execution_count": 138,
     "metadata": {},
     "output_type": "execute_result"
    }
   ],
   "source": [
    "cratons = df.craton.values\n",
    "cratons=cratons.astype('str')\n",
    "cratons"
   ]
  },
  {
   "cell_type": "code",
   "execution_count": 139,
   "metadata": {},
   "outputs": [
    {
     "data": {
      "text/plain": [
       "array([3, 3, 3, ..., 0, 0, 0])"
      ]
     },
     "execution_count": 139,
     "metadata": {},
     "output_type": "execute_result"
    }
   ],
   "source": [
    "le = LabelEncoder()\n",
    "cratons = le.fit_transform(cratons)\n",
    "cratons"
   ]
  },
  {
   "cell_type": "code",
   "execution_count": 140,
   "metadata": {},
   "outputs": [
    {
     "data": {
      "text/plain": [
       "(1264, 40)"
      ]
     },
     "execution_count": 140,
     "metadata": {},
     "output_type": "execute_result"
    }
   ],
   "source": [
    "features = df.drop(['craton'], axis=1)\n",
    "features.shape"
   ]
  },
  {
   "cell_type": "code",
   "execution_count": 141,
   "metadata": {},
   "outputs": [
    {
     "data": {
      "text/html": [
       "<div>\n",
       "<style scoped>\n",
       "    .dataframe tbody tr th:only-of-type {\n",
       "        vertical-align: middle;\n",
       "    }\n",
       "\n",
       "    .dataframe tbody tr th {\n",
       "        vertical-align: top;\n",
       "    }\n",
       "\n",
       "    .dataframe thead th {\n",
       "        text-align: right;\n",
       "    }\n",
       "</style>\n",
       "<table border=\"1\" class=\"dataframe\">\n",
       "  <thead>\n",
       "    <tr style=\"text-align: right;\">\n",
       "      <th></th>\n",
       "      <th>Si</th>\n",
       "      <th>Ti</th>\n",
       "      <th>Al</th>\n",
       "      <th>Cr</th>\n",
       "      <th>V</th>\n",
       "      <th>Mn</th>\n",
       "      <th>Mg</th>\n",
       "      <th>Ca</th>\n",
       "      <th>Sr</th>\n",
       "      <th>Ba</th>\n",
       "      <th>Na</th>\n",
       "      <th>P</th>\n",
       "      <th>K</th>\n",
       "      <th>Fe</th>\n",
       "      <th>Co</th>\n",
       "      <th>Ni</th>\n",
       "      <th>S</th>\n",
       "      <th>Zn</th>\n",
       "      <th>Cr_trace</th>\n",
       "      <th>Co_trace</th>\n",
       "      <th>Ni_trace</th>\n",
       "      <th>Sr_trace</th>\n",
       "      <th>Y_trace</th>\n",
       "      <th>Zr_trace</th>\n",
       "      <th>Nb_trace</th>\n",
       "      <th>Ba_trace</th>\n",
       "      <th>La_trace</th>\n",
       "      <th>Ce_trace</th>\n",
       "      <th>Nd_trace</th>\n",
       "      <th>Sm_trace</th>\n",
       "      <th>Eu_trace</th>\n",
       "      <th>Dy_trace</th>\n",
       "      <th>Er_trace</th>\n",
       "      <th>Yb_trace</th>\n",
       "      <th>Ti_trace</th>\n",
       "      <th>Fe_trace</th>\n",
       "      <th>Al_trace</th>\n",
       "      <th>Ca_trace</th>\n",
       "      <th>Mn_trace</th>\n",
       "      <th>Mg_trace</th>\n",
       "    </tr>\n",
       "  </thead>\n",
       "  <tbody>\n",
       "    <tr>\n",
       "      <th>0</th>\n",
       "      <td>0.000</td>\n",
       "      <td>30.354</td>\n",
       "      <td>0.008</td>\n",
       "      <td>0.027</td>\n",
       "      <td>0.0</td>\n",
       "      <td>0.364</td>\n",
       "      <td>0.270</td>\n",
       "      <td>0.017</td>\n",
       "      <td>0.0</td>\n",
       "      <td>0.0</td>\n",
       "      <td>0.024</td>\n",
       "      <td>0.0</td>\n",
       "      <td>0.027</td>\n",
       "      <td>37.022</td>\n",
       "      <td>0.0</td>\n",
       "      <td>0.038</td>\n",
       "      <td>0.0</td>\n",
       "      <td>0.0</td>\n",
       "      <td>260.0</td>\n",
       "      <td>56.0</td>\n",
       "      <td>181.0</td>\n",
       "      <td>0.2</td>\n",
       "      <td>0.300</td>\n",
       "      <td>27.4</td>\n",
       "      <td>335.0</td>\n",
       "      <td>4.00</td>\n",
       "      <td>0.600</td>\n",
       "      <td>2.100</td>\n",
       "      <td>0.60</td>\n",
       "      <td>0.192</td>\n",
       "      <td>0.076</td>\n",
       "      <td>0.147</td>\n",
       "      <td>0.224</td>\n",
       "      <td>0.100</td>\n",
       "      <td>NaN</td>\n",
       "      <td>NaN</td>\n",
       "      <td>NaN</td>\n",
       "      <td>55.640</td>\n",
       "      <td>3251.0</td>\n",
       "      <td>NaN</td>\n",
       "    </tr>\n",
       "    <tr>\n",
       "      <th>1</th>\n",
       "      <td>0.014</td>\n",
       "      <td>32.008</td>\n",
       "      <td>0.048</td>\n",
       "      <td>0.027</td>\n",
       "      <td>0.0</td>\n",
       "      <td>0.395</td>\n",
       "      <td>0.342</td>\n",
       "      <td>0.029</td>\n",
       "      <td>0.0</td>\n",
       "      <td>0.0</td>\n",
       "      <td>0.024</td>\n",
       "      <td>0.0</td>\n",
       "      <td>0.033</td>\n",
       "      <td>33.281</td>\n",
       "      <td>0.0</td>\n",
       "      <td>0.094</td>\n",
       "      <td>0.0</td>\n",
       "      <td>0.0</td>\n",
       "      <td>4172.0</td>\n",
       "      <td>429.0</td>\n",
       "      <td>6375.0</td>\n",
       "      <td>0.4</td>\n",
       "      <td>0.800</td>\n",
       "      <td>56.6</td>\n",
       "      <td>227.0</td>\n",
       "      <td>3.20</td>\n",
       "      <td>0.700</td>\n",
       "      <td>2.400</td>\n",
       "      <td>2.50</td>\n",
       "      <td>0.312</td>\n",
       "      <td>0.111</td>\n",
       "      <td>0.129</td>\n",
       "      <td>0.392</td>\n",
       "      <td>0.328</td>\n",
       "      <td>NaN</td>\n",
       "      <td>NaN</td>\n",
       "      <td>NaN</td>\n",
       "      <td>97.424</td>\n",
       "      <td>1887.0</td>\n",
       "      <td>NaN</td>\n",
       "    </tr>\n",
       "    <tr>\n",
       "      <th>2</th>\n",
       "      <td>0.070</td>\n",
       "      <td>0.689</td>\n",
       "      <td>1.138</td>\n",
       "      <td>2.155</td>\n",
       "      <td>0.0</td>\n",
       "      <td>0.201</td>\n",
       "      <td>29.868</td>\n",
       "      <td>0.017</td>\n",
       "      <td>0.0</td>\n",
       "      <td>0.0</td>\n",
       "      <td>0.024</td>\n",
       "      <td>0.0</td>\n",
       "      <td>0.027</td>\n",
       "      <td>36.369</td>\n",
       "      <td>0.0</td>\n",
       "      <td>0.809</td>\n",
       "      <td>0.0</td>\n",
       "      <td>0.0</td>\n",
       "      <td>2944.0</td>\n",
       "      <td>155.0</td>\n",
       "      <td>790.0</td>\n",
       "      <td>1.6</td>\n",
       "      <td>0.144</td>\n",
       "      <td>25.2</td>\n",
       "      <td>4.8</td>\n",
       "      <td>0.56</td>\n",
       "      <td>0.096</td>\n",
       "      <td>0.056</td>\n",
       "      <td>0.32</td>\n",
       "      <td>0.400</td>\n",
       "      <td>0.160</td>\n",
       "      <td>0.320</td>\n",
       "      <td>0.640</td>\n",
       "      <td>0.320</td>\n",
       "      <td>NaN</td>\n",
       "      <td>NaN</td>\n",
       "      <td>NaN</td>\n",
       "      <td>156.800</td>\n",
       "      <td>2397.0</td>\n",
       "      <td>NaN</td>\n",
       "    </tr>\n",
       "    <tr>\n",
       "      <th>3</th>\n",
       "      <td>0.005</td>\n",
       "      <td>30.102</td>\n",
       "      <td>0.008</td>\n",
       "      <td>0.027</td>\n",
       "      <td>0.0</td>\n",
       "      <td>0.565</td>\n",
       "      <td>0.072</td>\n",
       "      <td>0.021</td>\n",
       "      <td>0.0</td>\n",
       "      <td>0.0</td>\n",
       "      <td>0.024</td>\n",
       "      <td>0.0</td>\n",
       "      <td>0.027</td>\n",
       "      <td>35.941</td>\n",
       "      <td>0.0</td>\n",
       "      <td>0.038</td>\n",
       "      <td>0.0</td>\n",
       "      <td>0.0</td>\n",
       "      <td>153.0</td>\n",
       "      <td>53.0</td>\n",
       "      <td>13.0</td>\n",
       "      <td>0.2</td>\n",
       "      <td>0.300</td>\n",
       "      <td>348.7</td>\n",
       "      <td>646.0</td>\n",
       "      <td>2.30</td>\n",
       "      <td>0.500</td>\n",
       "      <td>1.900</td>\n",
       "      <td>0.70</td>\n",
       "      <td>0.300</td>\n",
       "      <td>0.069</td>\n",
       "      <td>0.186</td>\n",
       "      <td>0.248</td>\n",
       "      <td>0.154</td>\n",
       "      <td>NaN</td>\n",
       "      <td>NaN</td>\n",
       "      <td>NaN</td>\n",
       "      <td>71.488</td>\n",
       "      <td>2898.0</td>\n",
       "      <td>NaN</td>\n",
       "    </tr>\n",
       "    <tr>\n",
       "      <th>4</th>\n",
       "      <td>0.028</td>\n",
       "      <td>32.464</td>\n",
       "      <td>0.069</td>\n",
       "      <td>0.027</td>\n",
       "      <td>0.0</td>\n",
       "      <td>0.325</td>\n",
       "      <td>0.300</td>\n",
       "      <td>0.017</td>\n",
       "      <td>0.0</td>\n",
       "      <td>0.0</td>\n",
       "      <td>0.024</td>\n",
       "      <td>0.0</td>\n",
       "      <td>0.027</td>\n",
       "      <td>31.290</td>\n",
       "      <td>0.0</td>\n",
       "      <td>0.055</td>\n",
       "      <td>0.0</td>\n",
       "      <td>0.0</td>\n",
       "      <td>NaN</td>\n",
       "      <td>NaN</td>\n",
       "      <td>NaN</td>\n",
       "      <td>0.3</td>\n",
       "      <td>0.500</td>\n",
       "      <td>68.7</td>\n",
       "      <td>205.0</td>\n",
       "      <td>8.80</td>\n",
       "      <td>0.800</td>\n",
       "      <td>2.900</td>\n",
       "      <td>0.70</td>\n",
       "      <td>0.100</td>\n",
       "      <td>0.000</td>\n",
       "      <td>0.100</td>\n",
       "      <td>0.256</td>\n",
       "      <td>0.500</td>\n",
       "      <td>NaN</td>\n",
       "      <td>NaN</td>\n",
       "      <td>NaN</td>\n",
       "      <td>67.304</td>\n",
       "      <td>NaN</td>\n",
       "      <td>NaN</td>\n",
       "    </tr>\n",
       "  </tbody>\n",
       "</table>\n",
       "</div>"
      ],
      "text/plain": [
       "      Si      Ti     Al     Cr    V     Mn      Mg     Ca   Sr   Ba     Na  \\\n",
       "0  0.000  30.354  0.008  0.027  0.0  0.364   0.270  0.017  0.0  0.0  0.024   \n",
       "1  0.014  32.008  0.048  0.027  0.0  0.395   0.342  0.029  0.0  0.0  0.024   \n",
       "2  0.070   0.689  1.138  2.155  0.0  0.201  29.868  0.017  0.0  0.0  0.024   \n",
       "3  0.005  30.102  0.008  0.027  0.0  0.565   0.072  0.021  0.0  0.0  0.024   \n",
       "4  0.028  32.464  0.069  0.027  0.0  0.325   0.300  0.017  0.0  0.0  0.024   \n",
       "\n",
       "     P      K      Fe   Co     Ni    S   Zn  Cr_trace  Co_trace  Ni_trace  \\\n",
       "0  0.0  0.027  37.022  0.0  0.038  0.0  0.0     260.0      56.0     181.0   \n",
       "1  0.0  0.033  33.281  0.0  0.094  0.0  0.0    4172.0     429.0    6375.0   \n",
       "2  0.0  0.027  36.369  0.0  0.809  0.0  0.0    2944.0     155.0     790.0   \n",
       "3  0.0  0.027  35.941  0.0  0.038  0.0  0.0     153.0      53.0      13.0   \n",
       "4  0.0  0.027  31.290  0.0  0.055  0.0  0.0       NaN       NaN       NaN   \n",
       "\n",
       "   Sr_trace  Y_trace  Zr_trace  Nb_trace  Ba_trace  La_trace  Ce_trace  \\\n",
       "0       0.2    0.300      27.4     335.0      4.00     0.600     2.100   \n",
       "1       0.4    0.800      56.6     227.0      3.20     0.700     2.400   \n",
       "2       1.6    0.144      25.2       4.8      0.56     0.096     0.056   \n",
       "3       0.2    0.300     348.7     646.0      2.30     0.500     1.900   \n",
       "4       0.3    0.500      68.7     205.0      8.80     0.800     2.900   \n",
       "\n",
       "   Nd_trace  Sm_trace  Eu_trace  Dy_trace  Er_trace  Yb_trace  Ti_trace  \\\n",
       "0      0.60     0.192     0.076     0.147     0.224     0.100       NaN   \n",
       "1      2.50     0.312     0.111     0.129     0.392     0.328       NaN   \n",
       "2      0.32     0.400     0.160     0.320     0.640     0.320       NaN   \n",
       "3      0.70     0.300     0.069     0.186     0.248     0.154       NaN   \n",
       "4      0.70     0.100     0.000     0.100     0.256     0.500       NaN   \n",
       "\n",
       "   Fe_trace  Al_trace  Ca_trace  Mn_trace  Mg_trace  \n",
       "0       NaN       NaN    55.640    3251.0       NaN  \n",
       "1       NaN       NaN    97.424    1887.0       NaN  \n",
       "2       NaN       NaN   156.800    2397.0       NaN  \n",
       "3       NaN       NaN    71.488    2898.0       NaN  \n",
       "4       NaN       NaN    67.304       NaN       NaN  "
      ]
     },
     "execution_count": 141,
     "metadata": {},
     "output_type": "execute_result"
    }
   ],
   "source": [
    "features.head()"
   ]
  },
  {
   "cell_type": "code",
   "execution_count": 101,
   "metadata": {
    "scrolled": true
   },
   "outputs": [
    {
     "data": {
      "text/plain": [
       "Index(['Si', 'Ti', 'Al', 'Cr', 'V', 'Mn', 'Mg', 'Ca', 'Sr', 'Ba', 'Na', 'P',\n",
       "       'K', 'Fe', 'Co', 'Ni', 'S', 'Zn', 'Cr_trace', 'Co_trace', 'Ni_trace',\n",
       "       'Sr_trace', 'Y_trace', 'Zr_trace', 'Nb_trace', 'Ba_trace', 'La_trace',\n",
       "       'Ce_trace', 'Nd_trace', 'Sm_trace', 'Eu_trace', 'Dy_trace', 'Er_trace',\n",
       "       'Yb_trace', 'Ti_trace', 'Fe_trace', 'Al_trace', 'Ca_trace', 'Mn_trace',\n",
       "       'Mg_trace'],\n",
       "      dtype='object')"
      ]
     },
     "execution_count": 101,
     "metadata": {},
     "output_type": "execute_result"
    }
   ],
   "source": [
    "features.columns"
   ]
  },
  {
   "cell_type": "code",
   "execution_count": 146,
   "metadata": {},
   "outputs": [],
   "source": [
    "def plot_importance(feature_df, model, n_feature):\n",
    "    '''\n",
    "    Input:\n",
    "        feature_df: The feature dataframe / The X_train with column names\n",
    "        model: The training model\n",
    "        n_feature: number of feature importance you want to display\n",
    "    Output:\n",
    "        A plot with the top n feature importance in decreasing order\n",
    "    '''\n",
    "    vals = model.feature_importances_\n",
    "    df = pd.DataFrame(vals, index=feature_df.columns, columns=['Importance']).sort_values(by='Importance', ascending=False)\n",
    "    df_n = df.iloc[:n_feature,]\n",
    "    plt.figure(figsize=(16, 9))\n",
    "    plt.bar(df_n.index, df_n.Importance)\n",
    "    plt.xticks(rotation=90)"
   ]
  },
  {
   "cell_type": "code",
   "execution_count": 147,
   "metadata": {},
   "outputs": [],
   "source": [
    "def print_results(y_true, y_pred, dataset):\n",
    "    print(dataset,'-- R2: {0}, Accuracy Score: {1}'.format(r2_score(y_true, y_pred), \n",
    "                                                              accuracy_score(y_true, y_pred)))"
   ]
  },
  {
   "cell_type": "markdown",
   "metadata": {},
   "source": [
    "### Split into training set and test set"
   ]
  },
  {
   "cell_type": "code",
   "execution_count": 142,
   "metadata": {},
   "outputs": [
    {
     "data": {
      "text/plain": [
       "((1011, 40), (253, 40), (1011,), (253,))"
      ]
     },
     "execution_count": 142,
     "metadata": {},
     "output_type": "execute_result"
    }
   ],
   "source": [
    "X_train, X_test, y_train, y_test = train_test_split(features, cratons, test_size=0.2, \n",
    "                                                    stratify = cratons, random_state = 2020)\n",
    "\n",
    "X_train.shape, X_test.shape, y_train.shape, y_test.shape"
   ]
  },
  {
   "cell_type": "code",
   "execution_count": 143,
   "metadata": {},
   "outputs": [
    {
     "data": {
      "text/plain": [
       "<matplotlib.axes._subplots.AxesSubplot at 0x1c1fbd7510>"
      ]
     },
     "execution_count": 143,
     "metadata": {},
     "output_type": "execute_result"
    },
    {
     "data": {
      "image/png": "[encoded data removed]",
      "text/plain": [
       "<Figure size 432x288 with 1 Axes>"
      ]
     },
     "metadata": {
      "needs_background": "light"
     },
     "output_type": "display_data"
    }
   ],
   "source": [
    "sns.countplot(y_train)"
   ]
  },
  {
   "cell_type": "markdown",
   "metadata": {},
   "source": [
    "### XGBoost"
   ]
  },
  {
   "cell_type": "code",
   "execution_count": 144,
   "metadata": {},
   "outputs": [],
   "source": [
    "xg = XGBClassifier(random_state=2020)\n",
    "xg.fit(X_train, y_train)\n",
    "y_train_preds = xg.predict(X_train)\n",
    "y_test_preds = xg.predict(X_test)"
   ]
  },
  {
   "cell_type": "code",
   "execution_count": 148,
   "metadata": {},
   "outputs": [
    {
     "name": "stdout",
     "output_type": "stream",
     "text": [
      "training -- R2: 1.0, Accuracy Score: 1.0\n"
     ]
    }
   ],
   "source": [
    "print_results(y_train, y_train_preds, 'training')"
   ]
  },
  {
   "cell_type": "code",
   "execution_count": 149,
   "metadata": {},
   "outputs": [
    {
     "name": "stdout",
     "output_type": "stream",
     "text": [
      "test -- R2: 0.9904026341544835, Accuracy Score: 0.9841897233201581\n"
     ]
    }
   ],
   "source": [
    "print_results(y_test, y_test_preds, 'test')"
   ]
  },
  {
   "cell_type": "code",
   "execution_count": 159,
   "metadata": {},
   "outputs": [
    {
     "data": {
      "image/png": "[encoded data removed]",
      "text/plain": [
       "<Figure size 1152x648 with 1 Axes>"
      ]
     },
     "metadata": {
      "needs_background": "light"
     },
     "output_type": "display_data"
    }
   ],
   "source": [
    "plot_importance(features, xg, 35)"
   ]
  },
  {
   "cell_type": "code",
   "execution_count": 35,
   "metadata": {},
   "outputs": [],
   "source": [
    "# xgb = XGBClassifier(subsample=0.5, colsample_bytree=0.1, objective='multi:softmax', num_class = 3, \n",
    "#                     eval_metric = 'merror', seed=2020)"
   ]
  },
  {
   "cell_type": "code",
   "execution_count": 160,
   "metadata": {},
   "outputs": [],
   "source": [
    "xgb = XGBClassifier(objective='multi:softmax', num_class = 10, \n",
    "                    eval_metric = 'merror', seed=2020)\n",
    "xgb.fit(X_train, y_train)\n",
    "y_train_preds = xgb.predict(X_train)\n",
    "y_test_preds = xgb.predict(X_test)"
   ]
  },
  {
   "cell_type": "code",
   "execution_count": 161,
   "metadata": {},
   "outputs": [
    {
     "name": "stdout",
     "output_type": "stream",
     "text": [
      "training -- R2: 1.0, Accuracy Score: 1.0\n"
     ]
    }
   ],
   "source": [
    "print_results(y_train, y_train_preds, 'training')"
   ]
  },
  {
   "cell_type": "code",
   "execution_count": 162,
   "metadata": {},
   "outputs": [
    {
     "name": "stdout",
     "output_type": "stream",
     "text": [
      "test -- R2: 0.9904026341544835, Accuracy Score: 0.9841897233201581\n"
     ]
    }
   ],
   "source": [
    "print_results(y_test, y_test_preds, 'test')"
   ]
  },
  {
   "cell_type": "code",
   "execution_count": 164,
   "metadata": {},
   "outputs": [
    {
     "data": {
      "image/png": "[encoded data removed]",
      "text/plain": [
       "<Figure size 1152x648 with 1 Axes>"
      ]
     },
     "metadata": {
      "needs_background": "light"
     },
     "output_type": "display_data"
    }
   ],
   "source": [
    "plot_importance(features, xgb, 35)"
   ]
  },
  {
   "cell_type": "markdown",
   "metadata": {},
   "source": [
    "### Model Optimization"
   ]
  },
  {
   "cell_type": "code",
   "execution_count": 165,
   "metadata": {},
   "outputs": [],
   "source": [
    "learning_rate = [0.01, 0.05, 0.1, 0.2, 1]\n",
    "depth = [3, 4, 5, 6, 7]\n",
    "min_split = [1, 2, 3, 4, 5]"
   ]
  },
  {
   "cell_type": "code",
   "execution_count": 166,
   "metadata": {},
   "outputs": [],
   "source": [
    "# scorings = {'f1_samples': make_scorer(recall_score, average = 'samples'),\n",
    "#            'f1_macro': make_scorer(f1_score, average = 'macro'),\n",
    "#            'f1_weighted': make_scorer(f1_score, average = 'weighted')}"
   ]
  },
  {
   "cell_type": "code",
   "execution_count": 167,
   "metadata": {},
   "outputs": [],
   "source": [
    "# scorings = {'accuracy': make_scorer(accuracy_score), \n",
    "#            'f1_samples': make_scorer(recall_score, average = 'samples'),\n",
    "#            'f1_macro': make_scorer(f1_score, average = 'macro'),\n",
    "#            'f1_weighted': make_scorer(f1_score, average = 'weighted')}"
   ]
  },
  {
   "cell_type": "code",
   "execution_count": 168,
   "metadata": {},
   "outputs": [],
   "source": [
    "xgb = XGBClassifier(objective='multi:softmax', num_class = 10, \n",
    "                    eval_metric = 'merror', tree_method='hist', seed=2020)"
   ]
  },
  {
   "cell_type": "code",
   "execution_count": 169,
   "metadata": {},
   "outputs": [
    {
     "data": {
      "text/plain": [
       "GridSearchCV(cv=5,\n",
       "             estimator=XGBClassifier(base_score=None, booster=None,\n",
       "                                     colsample_bylevel=None,\n",
       "                                     colsample_bynode=None,\n",
       "                                     colsample_bytree=None,\n",
       "                                     eval_metric='merror', gamma=None,\n",
       "                                     gpu_id=None, importance_type='gain',\n",
       "                                     interaction_constraints=None,\n",
       "                                     learning_rate=None, max_delta_step=None,\n",
       "                                     max_depth=None, min_child_weight=None,\n",
       "                                     missing=nan, monotone_constraints=None,\n",
       "                                     n_estimators=100, n_jobs=None,\n",
       "                                     num_class=10, num_parallel_tree=None,\n",
       "                                     objective='multi:softmax',\n",
       "                                     random_state=None, reg_alpha=None,\n",
       "                                     reg_lambda=None, scale_pos_weight=None,\n",
       "                                     seed=2020, subsample=None,\n",
       "                                     tree_method='hist',\n",
       "                                     validate_parameters=None, verbosity=None),\n",
       "             param_grid={'eta': [0.01, 0.05, 0.1, 0.2, 1],\n",
       "                         'gamma': [1, 2, 3, 4, 5],\n",
       "                         'max_depth': [3, 4, 5, 6, 7]},\n",
       "             scoring='accuracy')"
      ]
     },
     "execution_count": 169,
     "metadata": {},
     "output_type": "execute_result"
    }
   ],
   "source": [
    "xgb_cv = GridSearchCV(xgb, param_grid = {'eta': learning_rate, 'gamma': min_split, 'max_depth': depth}, \n",
    "                      cv=5, scoring='accuracy')\n",
    "xgb_cv.fit(X_train, y_train)"
   ]
  },
  {
   "cell_type": "code",
   "execution_count": 170,
   "metadata": {},
   "outputs": [
    {
     "data": {
      "text/plain": [
       "{'eta': 0.1, 'gamma': 1, 'max_depth': 4}"
      ]
     },
     "execution_count": 170,
     "metadata": {},
     "output_type": "execute_result"
    }
   ],
   "source": [
    "xgb_cv.best_params_"
   ]
  },
  {
   "cell_type": "code",
   "execution_count": 171,
   "metadata": {},
   "outputs": [
    {
     "data": {
      "text/plain": [
       "XGBClassifier(base_score=0.5, booster='gbtree', colsample_bylevel=1,\n",
       "              colsample_bynode=1, colsample_bytree=1, eta=0.1,\n",
       "              eval_metric='merror', gamma=1, gpu_id=-1, importance_type='gain',\n",
       "              interaction_constraints='', learning_rate=0.100000001,\n",
       "              max_delta_step=0, max_depth=4, min_child_weight=1, missing=nan,\n",
       "              monotone_constraints='()', n_estimators=100, n_jobs=0,\n",
       "              num_class=10, num_parallel_tree=1, objective='multi:softprob',\n",
       "              random_state=2020, reg_alpha=0, reg_lambda=1,\n",
       "              scale_pos_weight=None, seed=2020, subsample=1, tree_method='hist',\n",
       "              validate_parameters=1, ...)"
      ]
     },
     "execution_count": 171,
     "metadata": {},
     "output_type": "execute_result"
    }
   ],
   "source": [
    "xgb_cv.best_estimator_"
   ]
  },
  {
   "cell_type": "code",
   "execution_count": 172,
   "metadata": {},
   "outputs": [
    {
     "data": {
      "text/plain": [
       "0.9436277617909574"
      ]
     },
     "execution_count": 172,
     "metadata": {},
     "output_type": "execute_result"
    }
   ],
   "source": [
    "xgb_cv.best_score_"
   ]
  },
  {
   "cell_type": "code",
   "execution_count": 173,
   "metadata": {},
   "outputs": [],
   "source": [
    "xgb_best = xgb_cv.best_estimator_"
   ]
  },
  {
   "cell_type": "code",
   "execution_count": 174,
   "metadata": {},
   "outputs": [],
   "source": [
    "y_train_preds = xgb_best.predict(X_train)\n",
    "y_test_preds = xgb_best.predict(X_test)"
   ]
  },
  {
   "cell_type": "code",
   "execution_count": 175,
   "metadata": {},
   "outputs": [
    {
     "name": "stdout",
     "output_type": "stream",
     "text": [
      "training -- R2: 0.9888216546124878, Accuracy Score: 0.9960435212660732\n"
     ]
    }
   ],
   "source": [
    "print_results(y_train, y_train_preds, 'training')"
   ]
  },
  {
   "cell_type": "code",
   "execution_count": 176,
   "metadata": {},
   "outputs": [
    {
     "name": "stdout",
     "output_type": "stream",
     "text": [
      "test -- R2: 0.9299392293277292, Accuracy Score: 0.9683794466403162\n"
     ]
    }
   ],
   "source": [
    "print_results(y_test, y_test_preds, 'test')"
   ]
  },
  {
   "cell_type": "code",
   "execution_count": 177,
   "metadata": {},
   "outputs": [
    {
     "data": {
      "image/png": "[encoded data removed]",
      "text/plain": [
       "<Figure size 1152x648 with 1 Axes>"
      ]
     },
     "metadata": {
      "needs_background": "light"
     },
     "output_type": "display_data"
    }
   ],
   "source": [
    "plot_importance(features, xgb_best, 10)"
   ]
  },
  {
   "cell_type": "markdown",
   "metadata": {},
   "source": [
    "### ============ Save the best model =================================="
   ]
  },
  {
   "cell_type": "code",
   "execution_count": 178,
   "metadata": {},
   "outputs": [
    {
     "data": {
      "text/plain": [
       "XGBClassifier(base_score=0.5, booster='gbtree', colsample_bylevel=1,\n",
       "              colsample_bynode=1, colsample_bytree=1, eta=0.01,\n",
       "              eval_metric='merror', gamma=1, gpu_id=-1, importance_type='gain',\n",
       "              interaction_constraints='', learning_rate=0.00999999978,\n",
       "              max_delta_step=0, max_depth=7, min_child_weight=1, missing=nan,\n",
       "              monotone_constraints='()', n_estimators=100, n_jobs=0,\n",
       "              num_class=3, num_parallel_tree=1, objective='multi:softprob',\n",
       "              random_state=2020, reg_alpha=0, reg_lambda=1,\n",
       "              scale_pos_weight=None, seed=2020, subsample=1, tree_method='hist',\n",
       "              validate_parameters=1, ...)"
      ]
     },
     "execution_count": 178,
     "metadata": {},
     "output_type": "execute_result"
    }
   ],
   "source": [
    "xgb_best = XGBClassifier(objective='multi:softmax', num_class = 3, \n",
    "                    eval_metric = 'merror', tree_method='hist', \n",
    "                    eta = 0.01, gamma = 1, max_depth = 7, seed=2020)\n",
    "xgb_best.fit(X_train, y_train)"
   ]
  },
  {
   "cell_type": "code",
   "execution_count": 179,
   "metadata": {},
   "outputs": [],
   "source": [
    "y_train_preds = xgb_best.predict(X_train)\n",
    "y_test_preds = xgb_best.predict(X_test)"
   ]
  },
  {
   "cell_type": "code",
   "execution_count": 180,
   "metadata": {},
   "outputs": [
    {
     "name": "stdout",
     "output_type": "stream",
     "text": [
      "training -- R2: 0.9510055500036699, Accuracy Score: 0.9821958456973294\n"
     ]
    }
   ],
   "source": [
    "print_results(y_train, y_train_preds, 'training')"
   ]
  },
  {
   "cell_type": "code",
   "execution_count": 181,
   "metadata": {},
   "outputs": [
    {
     "name": "stdout",
     "output_type": "stream",
     "text": [
      "test -- R2: 0.9289794927431775, Accuracy Score: 0.9604743083003953\n"
     ]
    }
   ],
   "source": [
    "print_results(y_test, y_test_preds, 'test')"
   ]
  },
  {
   "cell_type": "code",
   "execution_count": 182,
   "metadata": {},
   "outputs": [
    {
     "data": {
      "image/png": "[encoded data removed]",
      "text/plain": [
       "<Figure size 1152x648 with 1 Axes>"
      ]
     },
     "metadata": {
      "needs_background": "light"
     },
     "output_type": "display_data"
    }
   ],
   "source": [
    "plot_importance(features, xgb_best, 10)"
   ]
  },
  {
   "cell_type": "code",
   "execution_count": 183,
   "metadata": {},
   "outputs": [],
   "source": [
    "# with open('diamonds_xgb_gridsearchbest.pkl', 'wb') as f:\n",
    "#     pickle.dump(xgb_best, f)"
   ]
  },
  {
   "cell_type": "code",
   "execution_count": 186,
   "metadata": {},
   "outputs": [
    {
     "name": "stdout",
     "output_type": "stream",
     "text": [
      "Collecting shap\n",
      "  Downloading shap-0.37.0.tar.gz (326 kB)\n",
      "\u001b[K     |████████████████████████████████| 326 kB 3.2 MB/s eta 0:00:01\n",
      "\u001b[?25hRequirement already satisfied: numpy in /opt/anaconda3/lib/python3.7/site-packages (from shap) (1.17.2)\n",
      "Requirement already satisfied: scipy in /opt/anaconda3/lib/python3.7/site-packages (from shap) (1.3.1)\n",
      "Requirement already satisfied: scikit-learn in /opt/anaconda3/lib/python3.7/site-packages (from shap) (0.23.2)\n",
      "Requirement already satisfied: pandas in /opt/anaconda3/lib/python3.7/site-packages (from shap) (1.0.0)\n",
      "Requirement already satisfied: tqdm>4.25.0 in /opt/anaconda3/lib/python3.7/site-packages (from shap) (4.36.1)\n",
      "Collecting slicer==0.0.3\n",
      "  Downloading slicer-0.0.3-py3-none-any.whl (11 kB)\n",
      "Requirement already satisfied: numba in /opt/anaconda3/lib/python3.7/site-packages (from shap) (0.45.1)\n",
      "Requirement already satisfied: joblib>=0.11 in /opt/anaconda3/lib/python3.7/site-packages (from scikit-learn->shap) (0.13.2)\n",
      "Requirement already satisfied: threadpoolctl>=2.0.0 in /opt/anaconda3/lib/python3.7/site-packages (from scikit-learn->shap) (2.1.0)\n",
      "Requirement already satisfied: python-dateutil>=2.6.1 in /opt/anaconda3/lib/python3.7/site-packages (from pandas->shap) (2.8.0)\n",
      "Requirement already satisfied: pytz>=2017.2 in /opt/anaconda3/lib/python3.7/site-packages (from pandas->shap) (2019.3)\n",
      "Requirement already satisfied: llvmlite>=0.29.0dev0 in /opt/anaconda3/lib/python3.7/site-packages (from numba->shap) (0.29.0)\n",
      "Requirement already satisfied: six>=1.5 in /opt/anaconda3/lib/python3.7/site-packages (from python-dateutil>=2.6.1->pandas->shap) (1.12.0)\n",
      "Building wheels for collected packages: shap\n",
      "  Building wheel for shap (setup.py) ... \u001b[?25ldone\n",
      "\u001b[?25h  Created wheel for shap: filename=shap-0.37.0-cp37-cp37m-macosx_10_9_x86_64.whl size=379389 sha256=1a0cc4551b42d4855200631dc83d856369cfa8d6592392ca43c3597873095c19\n",
      "  Stored in directory: /Users/TJHsiao/Library/Caches/pip/wheels/df/b8/18/2c0a6105152e62dd9a7cf47b5110b9cedb0c8739babdef64b7\n",
      "Successfully built shap\n",
      "Installing collected packages: slicer, shap\n",
      "Successfully installed shap-0.37.0 slicer-0.0.3\n",
      "\u001b[33mWARNING: You are using pip version 20.2.3; however, version 20.3.1 is available.\n",
      "You should consider upgrading via the '/opt/anaconda3/bin/python -m pip install --upgrade pip' command.\u001b[0m\n",
      "Note: you may need to restart the kernel to use updated packages.\n"
     ]
    }
   ],
   "source": [
    "pip install shap"
   ]
  },
  {
   "cell_type": "code",
   "execution_count": 187,
   "metadata": {},
   "outputs": [],
   "source": [
    "import shap"
   ]
  },
  {
   "cell_type": "code",
   "execution_count": 188,
   "metadata": {},
   "outputs": [],
   "source": [
    "# explain the model's predictions using SHAP\n",
    "# (same syntax works for LightGBM, CatBoost, scikit-learn and spark models)\n",
    "explainer = shap.TreeExplainer(xgb_best)\n",
    "shap_values = explainer.shap_values(X_train)\n"
   ]
  },
  {
   "cell_type": "code",
   "execution_count": 189,
   "metadata": {},
   "outputs": [
    {
     "data": {
      "image/png": "[encoded data removed]",
      "text/plain": [
       "<Figure size 576x684 with 1 Axes>"
      ]
     },
     "metadata": {
      "needs_background": "light"
     },
     "output_type": "display_data"
    }
   ],
   "source": [
    "# take the mean absolute value of the SHAP values for \n",
    "# each feature to get a standard bar plot (produces stacked bars for multi-class outputs)\n",
    "shap.summary_plot(shap_values, X_train, plot_type=\"bar\")"
   ]
  },
  {
   "cell_type": "code",
   "execution_count": null,
   "metadata": {},
   "outputs": [],
   "source": []
  }
 ],
 "metadata": {
  "kernelspec": {
   "display_name": "Python 3",
   "language": "python",
   "name": "python3"
  },
  "language_info": {
   "codemirror_mode": {
    "name": "ipython",
    "version": 3
   },
   "file_extension": ".py",
   "mimetype": "text/x-python",
   "name": "python",
   "nbconvert_exporter": "python",
   "pygments_lexer": "ipython3",
   "version": "3.7.4"
  }
 },
 "nbformat": 4,
 "nbformat_minor": 4
}
