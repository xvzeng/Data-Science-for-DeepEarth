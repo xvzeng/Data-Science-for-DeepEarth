{
 "cells": [
  {
   "cell_type": "markdown",
   "metadata": {},
   "source": [
    "# Diamonds_XGboost_CV_AllKnown_BalancedData_Metrics_Top5Craton\n",
    "By Vivian Zeng       01/12/2021"
   ]
  },
  {
   "cell_type": "code",
   "execution_count": 1,
   "metadata": {},
   "outputs": [],
   "source": [
    "import pandas as pd\n",
    "import numpy as np\n",
    "\n",
    "pd.set_option('display.max_columns', None)\n",
    "pd.set_option('display.max_rows', None)\n",
    "\n",
    "import warnings\n",
    "warnings.filterwarnings('ignore')\n",
    "\n",
    "from sklearn.experimental import enable_iterative_imputer\n",
    "from sklearn.impute import IterativeImputer\n",
    "\n",
    "from sklearn.preprocessing import LabelEncoder\n",
    "from sklearn.model_selection import train_test_split\n",
    "\n",
    "from sklearn.ensemble import RandomForestClassifier\n",
    "from xgboost import XGBClassifier\n",
    "from sklearn.metrics import accuracy_score, r2_score, make_scorer, f1_score, recall_score, precision_score\n",
    "from sklearn.model_selection import GridSearchCV\n",
    "\n",
    "import seaborn as sns\n",
    "import matplotlib.pyplot as plt\n",
    "\n",
    "import pickle"
   ]
  },
  {
   "cell_type": "code",
   "execution_count": 2,
   "metadata": {},
   "outputs": [
    {
     "name": "stdout",
     "output_type": "stream",
     "text": [
      "20201216.Rmd\r\n",
      "20201216金刚石数据库.xlsx\r\n",
      "20201217_warpup.docx\r\n",
      "20201217_warpup.pdf\r\n",
      "Construct Covariance Matrix-Standardization.ipynb\r\n",
      "Construct Covariance Matrix.ipynb\r\n",
      "Diamind9000MissingIDs_XZ_20201216.csv\r\n",
      "Diamind_XZ_20201215_AllKnown.csv\r\n",
      "Diamind_XZ_20201216_Unknown.csv\r\n",
      "Diamonds_XGboost_CV_AllKnown_20201216.ipynb\r\n",
      "Diamonds_XGboost_CV_AllKnown_BalancedData.ipynb\r\n",
      "Diamonds_XGboost_CV_AllKnown_BalancedData_Classification_Metric_Top5_Craton.ipynb\r\n",
      "diamond20201216.csv\r\n"
     ]
    }
   ],
   "source": [
    "ls"
   ]
  },
  {
   "cell_type": "code",
   "execution_count": 3,
   "metadata": {},
   "outputs": [
    {
     "data": {
      "text/html": [
       "<div>\n",
       "<style scoped>\n",
       "    .dataframe tbody tr th:only-of-type {\n",
       "        vertical-align: middle;\n",
       "    }\n",
       "\n",
       "    .dataframe tbody tr th {\n",
       "        vertical-align: top;\n",
       "    }\n",
       "\n",
       "    .dataframe thead th {\n",
       "        text-align: right;\n",
       "    }\n",
       "</style>\n",
       "<table border=\"1\" class=\"dataframe\">\n",
       "  <thead>\n",
       "    <tr style=\"text-align: right;\">\n",
       "      <th></th>\n",
       "      <th>Unnamed: 0</th>\n",
       "      <th>craton</th>\n",
       "      <th>Si</th>\n",
       "      <th>Ti</th>\n",
       "      <th>Al</th>\n",
       "      <th>Cr</th>\n",
       "      <th>V</th>\n",
       "      <th>Mn</th>\n",
       "      <th>Mg</th>\n",
       "      <th>Ca</th>\n",
       "      <th>Sr</th>\n",
       "      <th>Ba</th>\n",
       "      <th>Na</th>\n",
       "      <th>P</th>\n",
       "      <th>K</th>\n",
       "      <th>Fe</th>\n",
       "      <th>Co</th>\n",
       "      <th>Ni</th>\n",
       "      <th>S</th>\n",
       "      <th>Zn</th>\n",
       "      <th>Cr_trace</th>\n",
       "      <th>Co_trace</th>\n",
       "      <th>Ni_trace</th>\n",
       "      <th>Sr_trace</th>\n",
       "      <th>Y_trace</th>\n",
       "      <th>Zr_trace</th>\n",
       "      <th>Nb_trace</th>\n",
       "      <th>Ba_trace</th>\n",
       "      <th>La_trace</th>\n",
       "      <th>Ce_trace</th>\n",
       "      <th>Nd_trace</th>\n",
       "      <th>Sm_trace</th>\n",
       "      <th>Eu_trace</th>\n",
       "      <th>Dy_trace</th>\n",
       "      <th>Er_trace</th>\n",
       "      <th>Yb_trace</th>\n",
       "      <th>Ti_trace</th>\n",
       "      <th>Fe_trace</th>\n",
       "      <th>Al_trace</th>\n",
       "      <th>Ca_trace</th>\n",
       "      <th>Mn_trace</th>\n",
       "      <th>Mg_trace</th>\n",
       "      <th>NAs</th>\n",
       "    </tr>\n",
       "  </thead>\n",
       "  <tbody>\n",
       "    <tr>\n",
       "      <th>0</th>\n",
       "      <td>1</td>\n",
       "      <td>Amazonia</td>\n",
       "      <td>0.000000</td>\n",
       "      <td>30.353616</td>\n",
       "      <td>0.008470</td>\n",
       "      <td>0.027368</td>\n",
       "      <td>0.0</td>\n",
       "      <td>0.363968</td>\n",
       "      <td>0.270</td>\n",
       "      <td>0.017143</td>\n",
       "      <td>0.0</td>\n",
       "      <td>0.0</td>\n",
       "      <td>0.023741</td>\n",
       "      <td>0.0</td>\n",
       "      <td>0.026553</td>\n",
       "      <td>37.022328</td>\n",
       "      <td>0.0</td>\n",
       "      <td>0.037718</td>\n",
       "      <td>0.0</td>\n",
       "      <td>0.0</td>\n",
       "      <td>136.0</td>\n",
       "      <td>79.0</td>\n",
       "      <td>31.0</td>\n",
       "      <td>0.2</td>\n",
       "      <td>0.300</td>\n",
       "      <td>27.4</td>\n",
       "      <td>335.0</td>\n",
       "      <td>4.00</td>\n",
       "      <td>0.600</td>\n",
       "      <td>2.100</td>\n",
       "      <td>0.60</td>\n",
       "      <td>0.192</td>\n",
       "      <td>0.0760</td>\n",
       "      <td>0.1472</td>\n",
       "      <td>0.224</td>\n",
       "      <td>0.1000</td>\n",
       "      <td>NaN</td>\n",
       "      <td>NaN</td>\n",
       "      <td>NaN</td>\n",
       "      <td>55.640</td>\n",
       "      <td>2706.0</td>\n",
       "      <td>NaN</td>\n",
       "      <td>48</td>\n",
       "    </tr>\n",
       "    <tr>\n",
       "      <th>1</th>\n",
       "      <td>2</td>\n",
       "      <td>Amazonia</td>\n",
       "      <td>0.014000</td>\n",
       "      <td>32.007960</td>\n",
       "      <td>0.047646</td>\n",
       "      <td>0.027368</td>\n",
       "      <td>0.0</td>\n",
       "      <td>0.394944</td>\n",
       "      <td>0.342</td>\n",
       "      <td>0.028572</td>\n",
       "      <td>0.0</td>\n",
       "      <td>0.0</td>\n",
       "      <td>0.023741</td>\n",
       "      <td>0.0</td>\n",
       "      <td>0.033192</td>\n",
       "      <td>33.281206</td>\n",
       "      <td>0.0</td>\n",
       "      <td>0.094296</td>\n",
       "      <td>0.0</td>\n",
       "      <td>0.0</td>\n",
       "      <td>260.0</td>\n",
       "      <td>56.0</td>\n",
       "      <td>181.0</td>\n",
       "      <td>0.4</td>\n",
       "      <td>0.800</td>\n",
       "      <td>56.6</td>\n",
       "      <td>227.0</td>\n",
       "      <td>3.20</td>\n",
       "      <td>0.700</td>\n",
       "      <td>2.400</td>\n",
       "      <td>2.50</td>\n",
       "      <td>0.312</td>\n",
       "      <td>0.1112</td>\n",
       "      <td>0.1288</td>\n",
       "      <td>0.392</td>\n",
       "      <td>0.3280</td>\n",
       "      <td>NaN</td>\n",
       "      <td>NaN</td>\n",
       "      <td>NaN</td>\n",
       "      <td>97.424</td>\n",
       "      <td>3251.0</td>\n",
       "      <td>NaN</td>\n",
       "      <td>48</td>\n",
       "    </tr>\n",
       "    <tr>\n",
       "      <th>2</th>\n",
       "      <td>3</td>\n",
       "      <td>Amazonia</td>\n",
       "      <td>0.070000</td>\n",
       "      <td>0.689310</td>\n",
       "      <td>1.138210</td>\n",
       "      <td>2.155230</td>\n",
       "      <td>0.0</td>\n",
       "      <td>0.201344</td>\n",
       "      <td>29.868</td>\n",
       "      <td>0.017143</td>\n",
       "      <td>0.0</td>\n",
       "      <td>0.0</td>\n",
       "      <td>0.023741</td>\n",
       "      <td>0.0</td>\n",
       "      <td>0.026553</td>\n",
       "      <td>36.368993</td>\n",
       "      <td>0.0</td>\n",
       "      <td>0.809374</td>\n",
       "      <td>0.0</td>\n",
       "      <td>0.0</td>\n",
       "      <td>4172.0</td>\n",
       "      <td>429.0</td>\n",
       "      <td>6375.0</td>\n",
       "      <td>1.6</td>\n",
       "      <td>0.144</td>\n",
       "      <td>25.2</td>\n",
       "      <td>4.8</td>\n",
       "      <td>0.56</td>\n",
       "      <td>0.096</td>\n",
       "      <td>0.056</td>\n",
       "      <td>0.32</td>\n",
       "      <td>0.400</td>\n",
       "      <td>0.1600</td>\n",
       "      <td>0.3200</td>\n",
       "      <td>0.640</td>\n",
       "      <td>0.3200</td>\n",
       "      <td>NaN</td>\n",
       "      <td>NaN</td>\n",
       "      <td>NaN</td>\n",
       "      <td>156.800</td>\n",
       "      <td>1887.0</td>\n",
       "      <td>NaN</td>\n",
       "      <td>48</td>\n",
       "    </tr>\n",
       "    <tr>\n",
       "      <th>3</th>\n",
       "      <td>4</td>\n",
       "      <td>Amazonia</td>\n",
       "      <td>0.004667</td>\n",
       "      <td>30.101868</td>\n",
       "      <td>0.008470</td>\n",
       "      <td>0.027368</td>\n",
       "      <td>0.0</td>\n",
       "      <td>0.565312</td>\n",
       "      <td>0.072</td>\n",
       "      <td>0.021429</td>\n",
       "      <td>0.0</td>\n",
       "      <td>0.0</td>\n",
       "      <td>0.023741</td>\n",
       "      <td>0.0</td>\n",
       "      <td>0.026553</td>\n",
       "      <td>35.941214</td>\n",
       "      <td>0.0</td>\n",
       "      <td>0.037718</td>\n",
       "      <td>0.0</td>\n",
       "      <td>0.0</td>\n",
       "      <td>2944.0</td>\n",
       "      <td>155.0</td>\n",
       "      <td>790.0</td>\n",
       "      <td>0.2</td>\n",
       "      <td>0.300</td>\n",
       "      <td>348.7</td>\n",
       "      <td>646.0</td>\n",
       "      <td>2.30</td>\n",
       "      <td>0.500</td>\n",
       "      <td>1.900</td>\n",
       "      <td>0.70</td>\n",
       "      <td>0.300</td>\n",
       "      <td>0.0688</td>\n",
       "      <td>0.1864</td>\n",
       "      <td>0.248</td>\n",
       "      <td>0.1544</td>\n",
       "      <td>NaN</td>\n",
       "      <td>NaN</td>\n",
       "      <td>NaN</td>\n",
       "      <td>71.488</td>\n",
       "      <td>2397.0</td>\n",
       "      <td>NaN</td>\n",
       "      <td>48</td>\n",
       "    </tr>\n",
       "    <tr>\n",
       "      <th>4</th>\n",
       "      <td>5</td>\n",
       "      <td>Amazonia</td>\n",
       "      <td>0.028000</td>\n",
       "      <td>32.463504</td>\n",
       "      <td>0.068822</td>\n",
       "      <td>0.027368</td>\n",
       "      <td>0.0</td>\n",
       "      <td>0.325248</td>\n",
       "      <td>0.300</td>\n",
       "      <td>0.017143</td>\n",
       "      <td>0.0</td>\n",
       "      <td>0.0</td>\n",
       "      <td>0.023741</td>\n",
       "      <td>0.0</td>\n",
       "      <td>0.026553</td>\n",
       "      <td>31.290089</td>\n",
       "      <td>0.0</td>\n",
       "      <td>0.055006</td>\n",
       "      <td>0.0</td>\n",
       "      <td>0.0</td>\n",
       "      <td>153.0</td>\n",
       "      <td>53.0</td>\n",
       "      <td>13.0</td>\n",
       "      <td>0.3</td>\n",
       "      <td>0.500</td>\n",
       "      <td>68.7</td>\n",
       "      <td>205.0</td>\n",
       "      <td>8.80</td>\n",
       "      <td>0.800</td>\n",
       "      <td>2.900</td>\n",
       "      <td>0.70</td>\n",
       "      <td>0.100</td>\n",
       "      <td>0.0000</td>\n",
       "      <td>0.1000</td>\n",
       "      <td>0.256</td>\n",
       "      <td>0.5000</td>\n",
       "      <td>NaN</td>\n",
       "      <td>NaN</td>\n",
       "      <td>NaN</td>\n",
       "      <td>67.304</td>\n",
       "      <td>2898.0</td>\n",
       "      <td>NaN</td>\n",
       "      <td>48</td>\n",
       "    </tr>\n",
       "  </tbody>\n",
       "</table>\n",
       "</div>"
      ],
      "text/plain": [
       "   Unnamed: 0    craton        Si         Ti        Al        Cr    V  \\\n",
       "0           1  Amazonia  0.000000  30.353616  0.008470  0.027368  0.0   \n",
       "1           2  Amazonia  0.014000  32.007960  0.047646  0.027368  0.0   \n",
       "2           3  Amazonia  0.070000   0.689310  1.138210  2.155230  0.0   \n",
       "3           4  Amazonia  0.004667  30.101868  0.008470  0.027368  0.0   \n",
       "4           5  Amazonia  0.028000  32.463504  0.068822  0.027368  0.0   \n",
       "\n",
       "         Mn      Mg        Ca   Sr   Ba        Na    P         K         Fe  \\\n",
       "0  0.363968   0.270  0.017143  0.0  0.0  0.023741  0.0  0.026553  37.022328   \n",
       "1  0.394944   0.342  0.028572  0.0  0.0  0.023741  0.0  0.033192  33.281206   \n",
       "2  0.201344  29.868  0.017143  0.0  0.0  0.023741  0.0  0.026553  36.368993   \n",
       "3  0.565312   0.072  0.021429  0.0  0.0  0.023741  0.0  0.026553  35.941214   \n",
       "4  0.325248   0.300  0.017143  0.0  0.0  0.023741  0.0  0.026553  31.290089   \n",
       "\n",
       "    Co        Ni    S   Zn  Cr_trace  Co_trace  Ni_trace  Sr_trace  Y_trace  \\\n",
       "0  0.0  0.037718  0.0  0.0     136.0      79.0      31.0       0.2    0.300   \n",
       "1  0.0  0.094296  0.0  0.0     260.0      56.0     181.0       0.4    0.800   \n",
       "2  0.0  0.809374  0.0  0.0    4172.0     429.0    6375.0       1.6    0.144   \n",
       "3  0.0  0.037718  0.0  0.0    2944.0     155.0     790.0       0.2    0.300   \n",
       "4  0.0  0.055006  0.0  0.0     153.0      53.0      13.0       0.3    0.500   \n",
       "\n",
       "   Zr_trace  Nb_trace  Ba_trace  La_trace  Ce_trace  Nd_trace  Sm_trace  \\\n",
       "0      27.4     335.0      4.00     0.600     2.100      0.60     0.192   \n",
       "1      56.6     227.0      3.20     0.700     2.400      2.50     0.312   \n",
       "2      25.2       4.8      0.56     0.096     0.056      0.32     0.400   \n",
       "3     348.7     646.0      2.30     0.500     1.900      0.70     0.300   \n",
       "4      68.7     205.0      8.80     0.800     2.900      0.70     0.100   \n",
       "\n",
       "   Eu_trace  Dy_trace  Er_trace  Yb_trace  Ti_trace  Fe_trace  Al_trace  \\\n",
       "0    0.0760    0.1472     0.224    0.1000       NaN       NaN       NaN   \n",
       "1    0.1112    0.1288     0.392    0.3280       NaN       NaN       NaN   \n",
       "2    0.1600    0.3200     0.640    0.3200       NaN       NaN       NaN   \n",
       "3    0.0688    0.1864     0.248    0.1544       NaN       NaN       NaN   \n",
       "4    0.0000    0.1000     0.256    0.5000       NaN       NaN       NaN   \n",
       "\n",
       "   Ca_trace  Mn_trace  Mg_trace  NAs  \n",
       "0    55.640    2706.0       NaN   48  \n",
       "1    97.424    3251.0       NaN   48  \n",
       "2   156.800    1887.0       NaN   48  \n",
       "3    71.488    2397.0       NaN   48  \n",
       "4    67.304    2898.0       NaN   48  "
      ]
     },
     "execution_count": 3,
     "metadata": {},
     "output_type": "execute_result"
    }
   ],
   "source": [
    "df_raw = pd.read_csv(\"Diamind_XZ_20201215_AllKnown.csv\")\n",
    "df_raw.head()"
   ]
  },
  {
   "cell_type": "markdown",
   "metadata": {},
   "source": [
    "### Data Preprocessing"
   ]
  },
  {
   "cell_type": "code",
   "execution_count": 6,
   "metadata": {},
   "outputs": [
    {
     "data": {
      "text/plain": [
       "(2144, 43)"
      ]
     },
     "execution_count": 6,
     "metadata": {},
     "output_type": "execute_result"
    }
   ],
   "source": [
    "df = df_raw.copy()\n",
    "df.shape"
   ]
  },
  {
   "cell_type": "code",
   "execution_count": 7,
   "metadata": {},
   "outputs": [
    {
     "data": {
      "text/plain": [
       "Index(['Unnamed: 0', 'craton', 'Si', 'Ti', 'Al', 'Cr', 'V', 'Mn', 'Mg', 'Ca',\n",
       "       'Sr', 'Ba', 'Na', 'P', 'K', 'Fe', 'Co', 'Ni', 'S', 'Zn', 'Cr_trace',\n",
       "       'Co_trace', 'Ni_trace', 'Sr_trace', 'Y_trace', 'Zr_trace', 'Nb_trace',\n",
       "       'Ba_trace', 'La_trace', 'Ce_trace', 'Nd_trace', 'Sm_trace', 'Eu_trace',\n",
       "       'Dy_trace', 'Er_trace', 'Yb_trace', 'Ti_trace', 'Fe_trace', 'Al_trace',\n",
       "       'Ca_trace', 'Mn_trace', 'Mg_trace', 'NAs'],\n",
       "      dtype='object')"
      ]
     },
     "execution_count": 7,
     "metadata": {},
     "output_type": "execute_result"
    }
   ],
   "source": [
    "df.columns #Keep NA to see NA's impact"
   ]
  },
  {
   "cell_type": "code",
   "execution_count": 8,
   "metadata": {},
   "outputs": [
    {
     "data": {
      "text/plain": [
       "(2144, 43)"
      ]
     },
     "execution_count": 8,
     "metadata": {},
     "output_type": "execute_result"
    }
   ],
   "source": [
    "df.drop(df.columns[df.isna().mean() == 1], axis=1, inplace=True)  # Remove columns that 100% missing \n",
    "df.shape"
   ]
  },
  {
   "cell_type": "code",
   "execution_count": 10,
   "metadata": {},
   "outputs": [],
   "source": [
    "df=df.drop(df.columns[0], axis=1)"
   ]
  },
  {
   "cell_type": "code",
   "execution_count": 11,
   "metadata": {},
   "outputs": [],
   "source": [
    "df=df.drop('NAs', axis=1)"
   ]
  },
  {
   "cell_type": "code",
   "execution_count": 12,
   "metadata": {},
   "outputs": [
    {
     "data": {
      "text/html": [
       "<div>\n",
       "<style scoped>\n",
       "    .dataframe tbody tr th:only-of-type {\n",
       "        vertical-align: middle;\n",
       "    }\n",
       "\n",
       "    .dataframe tbody tr th {\n",
       "        vertical-align: top;\n",
       "    }\n",
       "\n",
       "    .dataframe thead th {\n",
       "        text-align: right;\n",
       "    }\n",
       "</style>\n",
       "<table border=\"1\" class=\"dataframe\">\n",
       "  <thead>\n",
       "    <tr style=\"text-align: right;\">\n",
       "      <th></th>\n",
       "      <th>craton</th>\n",
       "      <th>Si</th>\n",
       "      <th>Ti</th>\n",
       "      <th>Al</th>\n",
       "      <th>Cr</th>\n",
       "      <th>V</th>\n",
       "      <th>Mn</th>\n",
       "      <th>Mg</th>\n",
       "      <th>Ca</th>\n",
       "      <th>Sr</th>\n",
       "      <th>Ba</th>\n",
       "      <th>Na</th>\n",
       "      <th>P</th>\n",
       "      <th>K</th>\n",
       "      <th>Fe</th>\n",
       "      <th>Co</th>\n",
       "      <th>Ni</th>\n",
       "      <th>S</th>\n",
       "      <th>Zn</th>\n",
       "      <th>Cr_trace</th>\n",
       "      <th>Co_trace</th>\n",
       "      <th>Ni_trace</th>\n",
       "      <th>Sr_trace</th>\n",
       "      <th>Y_trace</th>\n",
       "      <th>Zr_trace</th>\n",
       "      <th>Nb_trace</th>\n",
       "      <th>Ba_trace</th>\n",
       "      <th>La_trace</th>\n",
       "      <th>Ce_trace</th>\n",
       "      <th>Nd_trace</th>\n",
       "      <th>Sm_trace</th>\n",
       "      <th>Eu_trace</th>\n",
       "      <th>Dy_trace</th>\n",
       "      <th>Er_trace</th>\n",
       "      <th>Yb_trace</th>\n",
       "      <th>Ti_trace</th>\n",
       "      <th>Fe_trace</th>\n",
       "      <th>Al_trace</th>\n",
       "      <th>Ca_trace</th>\n",
       "      <th>Mn_trace</th>\n",
       "      <th>Mg_trace</th>\n",
       "    </tr>\n",
       "  </thead>\n",
       "  <tbody>\n",
       "    <tr>\n",
       "      <th>0</th>\n",
       "      <td>Amazonia</td>\n",
       "      <td>0.000000</td>\n",
       "      <td>30.353616</td>\n",
       "      <td>0.008470</td>\n",
       "      <td>0.027368</td>\n",
       "      <td>0.0</td>\n",
       "      <td>0.363968</td>\n",
       "      <td>0.270</td>\n",
       "      <td>0.017143</td>\n",
       "      <td>0.0</td>\n",
       "      <td>0.0</td>\n",
       "      <td>0.023741</td>\n",
       "      <td>0.0</td>\n",
       "      <td>0.026553</td>\n",
       "      <td>37.022328</td>\n",
       "      <td>0.0</td>\n",
       "      <td>0.037718</td>\n",
       "      <td>0.0</td>\n",
       "      <td>0.0</td>\n",
       "      <td>136.0</td>\n",
       "      <td>79.0</td>\n",
       "      <td>31.0</td>\n",
       "      <td>0.2</td>\n",
       "      <td>0.300</td>\n",
       "      <td>27.4</td>\n",
       "      <td>335.0</td>\n",
       "      <td>4.00</td>\n",
       "      <td>0.600</td>\n",
       "      <td>2.100</td>\n",
       "      <td>0.60</td>\n",
       "      <td>0.192</td>\n",
       "      <td>0.0760</td>\n",
       "      <td>0.1472</td>\n",
       "      <td>0.224</td>\n",
       "      <td>0.1000</td>\n",
       "      <td>NaN</td>\n",
       "      <td>NaN</td>\n",
       "      <td>NaN</td>\n",
       "      <td>55.640</td>\n",
       "      <td>2706.0</td>\n",
       "      <td>NaN</td>\n",
       "    </tr>\n",
       "    <tr>\n",
       "      <th>1</th>\n",
       "      <td>Amazonia</td>\n",
       "      <td>0.014000</td>\n",
       "      <td>32.007960</td>\n",
       "      <td>0.047646</td>\n",
       "      <td>0.027368</td>\n",
       "      <td>0.0</td>\n",
       "      <td>0.394944</td>\n",
       "      <td>0.342</td>\n",
       "      <td>0.028572</td>\n",
       "      <td>0.0</td>\n",
       "      <td>0.0</td>\n",
       "      <td>0.023741</td>\n",
       "      <td>0.0</td>\n",
       "      <td>0.033192</td>\n",
       "      <td>33.281206</td>\n",
       "      <td>0.0</td>\n",
       "      <td>0.094296</td>\n",
       "      <td>0.0</td>\n",
       "      <td>0.0</td>\n",
       "      <td>260.0</td>\n",
       "      <td>56.0</td>\n",
       "      <td>181.0</td>\n",
       "      <td>0.4</td>\n",
       "      <td>0.800</td>\n",
       "      <td>56.6</td>\n",
       "      <td>227.0</td>\n",
       "      <td>3.20</td>\n",
       "      <td>0.700</td>\n",
       "      <td>2.400</td>\n",
       "      <td>2.50</td>\n",
       "      <td>0.312</td>\n",
       "      <td>0.1112</td>\n",
       "      <td>0.1288</td>\n",
       "      <td>0.392</td>\n",
       "      <td>0.3280</td>\n",
       "      <td>NaN</td>\n",
       "      <td>NaN</td>\n",
       "      <td>NaN</td>\n",
       "      <td>97.424</td>\n",
       "      <td>3251.0</td>\n",
       "      <td>NaN</td>\n",
       "    </tr>\n",
       "    <tr>\n",
       "      <th>2</th>\n",
       "      <td>Amazonia</td>\n",
       "      <td>0.070000</td>\n",
       "      <td>0.689310</td>\n",
       "      <td>1.138210</td>\n",
       "      <td>2.155230</td>\n",
       "      <td>0.0</td>\n",
       "      <td>0.201344</td>\n",
       "      <td>29.868</td>\n",
       "      <td>0.017143</td>\n",
       "      <td>0.0</td>\n",
       "      <td>0.0</td>\n",
       "      <td>0.023741</td>\n",
       "      <td>0.0</td>\n",
       "      <td>0.026553</td>\n",
       "      <td>36.368993</td>\n",
       "      <td>0.0</td>\n",
       "      <td>0.809374</td>\n",
       "      <td>0.0</td>\n",
       "      <td>0.0</td>\n",
       "      <td>4172.0</td>\n",
       "      <td>429.0</td>\n",
       "      <td>6375.0</td>\n",
       "      <td>1.6</td>\n",
       "      <td>0.144</td>\n",
       "      <td>25.2</td>\n",
       "      <td>4.8</td>\n",
       "      <td>0.56</td>\n",
       "      <td>0.096</td>\n",
       "      <td>0.056</td>\n",
       "      <td>0.32</td>\n",
       "      <td>0.400</td>\n",
       "      <td>0.1600</td>\n",
       "      <td>0.3200</td>\n",
       "      <td>0.640</td>\n",
       "      <td>0.3200</td>\n",
       "      <td>NaN</td>\n",
       "      <td>NaN</td>\n",
       "      <td>NaN</td>\n",
       "      <td>156.800</td>\n",
       "      <td>1887.0</td>\n",
       "      <td>NaN</td>\n",
       "    </tr>\n",
       "    <tr>\n",
       "      <th>3</th>\n",
       "      <td>Amazonia</td>\n",
       "      <td>0.004667</td>\n",
       "      <td>30.101868</td>\n",
       "      <td>0.008470</td>\n",
       "      <td>0.027368</td>\n",
       "      <td>0.0</td>\n",
       "      <td>0.565312</td>\n",
       "      <td>0.072</td>\n",
       "      <td>0.021429</td>\n",
       "      <td>0.0</td>\n",
       "      <td>0.0</td>\n",
       "      <td>0.023741</td>\n",
       "      <td>0.0</td>\n",
       "      <td>0.026553</td>\n",
       "      <td>35.941214</td>\n",
       "      <td>0.0</td>\n",
       "      <td>0.037718</td>\n",
       "      <td>0.0</td>\n",
       "      <td>0.0</td>\n",
       "      <td>2944.0</td>\n",
       "      <td>155.0</td>\n",
       "      <td>790.0</td>\n",
       "      <td>0.2</td>\n",
       "      <td>0.300</td>\n",
       "      <td>348.7</td>\n",
       "      <td>646.0</td>\n",
       "      <td>2.30</td>\n",
       "      <td>0.500</td>\n",
       "      <td>1.900</td>\n",
       "      <td>0.70</td>\n",
       "      <td>0.300</td>\n",
       "      <td>0.0688</td>\n",
       "      <td>0.1864</td>\n",
       "      <td>0.248</td>\n",
       "      <td>0.1544</td>\n",
       "      <td>NaN</td>\n",
       "      <td>NaN</td>\n",
       "      <td>NaN</td>\n",
       "      <td>71.488</td>\n",
       "      <td>2397.0</td>\n",
       "      <td>NaN</td>\n",
       "    </tr>\n",
       "    <tr>\n",
       "      <th>4</th>\n",
       "      <td>Amazonia</td>\n",
       "      <td>0.028000</td>\n",
       "      <td>32.463504</td>\n",
       "      <td>0.068822</td>\n",
       "      <td>0.027368</td>\n",
       "      <td>0.0</td>\n",
       "      <td>0.325248</td>\n",
       "      <td>0.300</td>\n",
       "      <td>0.017143</td>\n",
       "      <td>0.0</td>\n",
       "      <td>0.0</td>\n",
       "      <td>0.023741</td>\n",
       "      <td>0.0</td>\n",
       "      <td>0.026553</td>\n",
       "      <td>31.290089</td>\n",
       "      <td>0.0</td>\n",
       "      <td>0.055006</td>\n",
       "      <td>0.0</td>\n",
       "      <td>0.0</td>\n",
       "      <td>153.0</td>\n",
       "      <td>53.0</td>\n",
       "      <td>13.0</td>\n",
       "      <td>0.3</td>\n",
       "      <td>0.500</td>\n",
       "      <td>68.7</td>\n",
       "      <td>205.0</td>\n",
       "      <td>8.80</td>\n",
       "      <td>0.800</td>\n",
       "      <td>2.900</td>\n",
       "      <td>0.70</td>\n",
       "      <td>0.100</td>\n",
       "      <td>0.0000</td>\n",
       "      <td>0.1000</td>\n",
       "      <td>0.256</td>\n",
       "      <td>0.5000</td>\n",
       "      <td>NaN</td>\n",
       "      <td>NaN</td>\n",
       "      <td>NaN</td>\n",
       "      <td>67.304</td>\n",
       "      <td>2898.0</td>\n",
       "      <td>NaN</td>\n",
       "    </tr>\n",
       "  </tbody>\n",
       "</table>\n",
       "</div>"
      ],
      "text/plain": [
       "     craton        Si         Ti        Al        Cr    V        Mn      Mg  \\\n",
       "0  Amazonia  0.000000  30.353616  0.008470  0.027368  0.0  0.363968   0.270   \n",
       "1  Amazonia  0.014000  32.007960  0.047646  0.027368  0.0  0.394944   0.342   \n",
       "2  Amazonia  0.070000   0.689310  1.138210  2.155230  0.0  0.201344  29.868   \n",
       "3  Amazonia  0.004667  30.101868  0.008470  0.027368  0.0  0.565312   0.072   \n",
       "4  Amazonia  0.028000  32.463504  0.068822  0.027368  0.0  0.325248   0.300   \n",
       "\n",
       "         Ca   Sr   Ba        Na    P         K         Fe   Co        Ni    S  \\\n",
       "0  0.017143  0.0  0.0  0.023741  0.0  0.026553  37.022328  0.0  0.037718  0.0   \n",
       "1  0.028572  0.0  0.0  0.023741  0.0  0.033192  33.281206  0.0  0.094296  0.0   \n",
       "2  0.017143  0.0  0.0  0.023741  0.0  0.026553  36.368993  0.0  0.809374  0.0   \n",
       "3  0.021429  0.0  0.0  0.023741  0.0  0.026553  35.941214  0.0  0.037718  0.0   \n",
       "4  0.017143  0.0  0.0  0.023741  0.0  0.026553  31.290089  0.0  0.055006  0.0   \n",
       "\n",
       "    Zn  Cr_trace  Co_trace  Ni_trace  Sr_trace  Y_trace  Zr_trace  Nb_trace  \\\n",
       "0  0.0     136.0      79.0      31.0       0.2    0.300      27.4     335.0   \n",
       "1  0.0     260.0      56.0     181.0       0.4    0.800      56.6     227.0   \n",
       "2  0.0    4172.0     429.0    6375.0       1.6    0.144      25.2       4.8   \n",
       "3  0.0    2944.0     155.0     790.0       0.2    0.300     348.7     646.0   \n",
       "4  0.0     153.0      53.0      13.0       0.3    0.500      68.7     205.0   \n",
       "\n",
       "   Ba_trace  La_trace  Ce_trace  Nd_trace  Sm_trace  Eu_trace  Dy_trace  \\\n",
       "0      4.00     0.600     2.100      0.60     0.192    0.0760    0.1472   \n",
       "1      3.20     0.700     2.400      2.50     0.312    0.1112    0.1288   \n",
       "2      0.56     0.096     0.056      0.32     0.400    0.1600    0.3200   \n",
       "3      2.30     0.500     1.900      0.70     0.300    0.0688    0.1864   \n",
       "4      8.80     0.800     2.900      0.70     0.100    0.0000    0.1000   \n",
       "\n",
       "   Er_trace  Yb_trace  Ti_trace  Fe_trace  Al_trace  Ca_trace  Mn_trace  \\\n",
       "0     0.224    0.1000       NaN       NaN       NaN    55.640    2706.0   \n",
       "1     0.392    0.3280       NaN       NaN       NaN    97.424    3251.0   \n",
       "2     0.640    0.3200       NaN       NaN       NaN   156.800    1887.0   \n",
       "3     0.248    0.1544       NaN       NaN       NaN    71.488    2397.0   \n",
       "4     0.256    0.5000       NaN       NaN       NaN    67.304    2898.0   \n",
       "\n",
       "   Mg_trace  \n",
       "0       NaN  \n",
       "1       NaN  \n",
       "2       NaN  \n",
       "3       NaN  \n",
       "4       NaN  "
      ]
     },
     "execution_count": 12,
     "metadata": {},
     "output_type": "execute_result"
    }
   ],
   "source": [
    "df.head()"
   ]
  },
  {
   "cell_type": "code",
   "execution_count": 13,
   "metadata": {},
   "outputs": [
    {
     "data": {
      "text/plain": [
       "Siberia                 695\n",
       "Kaapvaal                410\n",
       "Slave                   330\n",
       "Amazonia                207\n",
       "Congo                   101\n",
       "West Africa              98\n",
       "Superior                 86\n",
       "Guyana                   57\n",
       "Alluvial                 38\n",
       "Wyoming                  35\n",
       "Zimbabwe                 28\n",
       "Gawler                   17\n",
       "Tarim                    12\n",
       "East European            10\n",
       "Pohorje                  10\n",
       "Buffalo Head Terrane      6\n",
       "Kalahari                  4\n",
       "Name: craton, dtype: int64"
      ]
     },
     "execution_count": 13,
     "metadata": {},
     "output_type": "execute_result"
    }
   ],
   "source": [
    "df.craton.value_counts()"
   ]
  },
  {
   "cell_type": "code",
   "execution_count": 14,
   "metadata": {},
   "outputs": [
    {
     "data": {
      "text/plain": [
       "17"
      ]
     },
     "execution_count": 14,
     "metadata": {},
     "output_type": "execute_result"
    }
   ],
   "source": [
    "df.craton.nunique()"
   ]
  },
  {
   "cell_type": "code",
   "execution_count": 16,
   "metadata": {},
   "outputs": [],
   "source": [
    "df_top5= df[df.craton.isin(['Siberia','Kaapvaal','Slave','Amazonia', 'Congo'])]"
   ]
  },
  {
   "cell_type": "code",
   "execution_count": 18,
   "metadata": {},
   "outputs": [
    {
     "data": {
      "text/plain": [
       "(1743, 41)"
      ]
     },
     "execution_count": 18,
     "metadata": {},
     "output_type": "execute_result"
    }
   ],
   "source": [
    "df_top5.shape"
   ]
  },
  {
   "cell_type": "code",
   "execution_count": 27,
   "metadata": {
    "scrolled": false
   },
   "outputs": [
    {
     "data": {
      "text/plain": [
       "(array([ 0,  1,  2,  3,  4,  5,  6,  7,  8,  9, 10, 11, 12, 13, 14, 15, 16]),\n",
       " <a list of 17 Text xticklabel objects>)"
      ]
     },
     "execution_count": 27,
     "metadata": {},
     "output_type": "execute_result"
    },
    {
     "data": {
      "image/png": "[encoded data removed]",
      "text/plain": [
       "<Figure size 1152x432 with 1 Axes>"
      ]
     },
     "metadata": {
      "needs_background": "light"
     },
     "output_type": "display_data"
    }
   ],
   "source": [
    "plt.figure(figsize=(16, 6))\n",
    "sns.countplot(df.craton)\n",
    "plt.xticks(rotation=45)"
   ]
  },
  {
   "cell_type": "code",
   "execution_count": 20,
   "metadata": {
    "scrolled": false
   },
   "outputs": [
    {
     "data": {
      "text/plain": [
       "(array([0, 1, 2, 3, 4]), <a list of 5 Text xticklabel objects>)"
      ]
     },
     "execution_count": 20,
     "metadata": {},
     "output_type": "execute_result"
    },
    {
     "data": {
      "image/png": "[encoded data removed]",
      "text/plain": [
       "<Figure size 1152x432 with 1 Axes>"
      ]
     },
     "metadata": {
      "needs_background": "light"
     },
     "output_type": "display_data"
    }
   ],
   "source": [
    "plt.figure(figsize=(16, 6))\n",
    "sns.countplot(df_top5.craton)\n",
    "plt.xticks(rotation=45)"
   ]
  },
  {
   "cell_type": "code",
   "execution_count": 23,
   "metadata": {},
   "outputs": [],
   "source": [
    "#df.craton = le.fit_transform(df.craton.astype(str))\n",
    "df_top5.craton=df_top5.craton.astype('category')"
   ]
  },
  {
   "cell_type": "code",
   "execution_count": 25,
   "metadata": {},
   "outputs": [
    {
     "data": {
      "text/plain": [
       "Siberia     695\n",
       "Kaapvaal    410\n",
       "Slave       330\n",
       "Amazonia    207\n",
       "Congo       101\n",
       "Name: craton, dtype: int64"
      ]
     },
     "execution_count": 25,
     "metadata": {},
     "output_type": "execute_result"
    }
   ],
   "source": [
    "df_top5.craton.value_counts()"
   ]
  },
  {
   "cell_type": "code",
   "execution_count": 28,
   "metadata": {},
   "outputs": [
    {
     "name": "stdout",
     "output_type": "stream",
     "text": [
      "<class 'pandas.core.frame.DataFrame'>\n",
      "Int64Index: 1743 entries, 0 to 2143\n",
      "Data columns (total 41 columns):\n",
      "craton      1743 non-null category\n",
      "Si          1582 non-null float64\n",
      "Ti          1582 non-null float64\n",
      "Al          1582 non-null float64\n",
      "Cr          1582 non-null float64\n",
      "V           1464 non-null float64\n",
      "Mn          1575 non-null float64\n",
      "Mg          1581 non-null float64\n",
      "Ca          1582 non-null float64\n",
      "Sr          1449 non-null float64\n",
      "Ba          1456 non-null float64\n",
      "Na          1576 non-null float64\n",
      "P           1526 non-null float64\n",
      "K           1581 non-null float64\n",
      "Fe          1582 non-null float64\n",
      "Co          1449 non-null float64\n",
      "Ni          1552 non-null float64\n",
      "S           1449 non-null float64\n",
      "Zn          1449 non-null float64\n",
      "Cr_trace    611 non-null float64\n",
      "Co_trace    575 non-null float64\n",
      "Ni_trace    686 non-null float64\n",
      "Sr_trace    419 non-null float64\n",
      "Y_trace     293 non-null float64\n",
      "Zr_trace    344 non-null float64\n",
      "Nb_trace    317 non-null float64\n",
      "Ba_trace    361 non-null float64\n",
      "La_trace    406 non-null float64\n",
      "Ce_trace    324 non-null float64\n",
      "Nd_trace    322 non-null float64\n",
      "Sm_trace    319 non-null float64\n",
      "Eu_trace    318 non-null float64\n",
      "Dy_trace    318 non-null float64\n",
      "Er_trace    318 non-null float64\n",
      "Yb_trace    317 non-null float64\n",
      "Ti_trace    913 non-null float64\n",
      "Fe_trace    690 non-null float64\n",
      "Al_trace    579 non-null float64\n",
      "Ca_trace    654 non-null float64\n",
      "Mn_trace    612 non-null float64\n",
      "Mg_trace    667 non-null float64\n",
      "dtypes: category(1), float64(40)\n",
      "memory usage: 640.2 KB\n"
     ]
    }
   ],
   "source": [
    "df_top5.info()"
   ]
  },
  {
   "cell_type": "markdown",
   "metadata": {},
   "source": [
    "Missing Value proportions"
   ]
  },
  {
   "cell_type": "code",
   "execution_count": 108,
   "metadata": {},
   "outputs": [
    {
     "data": {
      "text/plain": [
       "0.4580110120131052"
      ]
     },
     "execution_count": 108,
     "metadata": {},
     "output_type": "execute_result"
    }
   ],
   "source": [
    "df.isnull().sum().sum() /(df.shape[0]* df.shape[1])"
   ]
  },
  {
   "cell_type": "code",
   "execution_count": 109,
   "metadata": {},
   "outputs": [
    {
     "data": {
      "text/plain": [
       "0.44439780026027453"
      ]
     },
     "execution_count": 109,
     "metadata": {},
     "output_type": "execute_result"
    }
   ],
   "source": [
    "df_top5.isnull().sum().sum() /(df_top5.shape[0]* df_top5.shape[1])"
   ]
  },
  {
   "cell_type": "markdown",
   "metadata": {},
   "source": [
    "### Split data into craton and elements"
   ]
  },
  {
   "cell_type": "code",
   "execution_count": 29,
   "metadata": {},
   "outputs": [
    {
     "data": {
      "text/plain": [
       "array(['Amazonia', 'Amazonia', 'Amazonia', ..., 'Siberia', 'Siberia',\n",
       "       'Siberia'], dtype='<U8')"
      ]
     },
     "execution_count": 29,
     "metadata": {},
     "output_type": "execute_result"
    }
   ],
   "source": [
    "cratons = df_top5.craton.values\n",
    "cratons=cratons.astype('str')\n",
    "cratons"
   ]
  },
  {
   "cell_type": "code",
   "execution_count": 30,
   "metadata": {},
   "outputs": [
    {
     "data": {
      "text/plain": [
       "array([0, 0, 0, ..., 3, 3, 3])"
      ]
     },
     "execution_count": 30,
     "metadata": {},
     "output_type": "execute_result"
    }
   ],
   "source": [
    "le = LabelEncoder()\n",
    "cratons = le.fit_transform(cratons)\n",
    "cratons"
   ]
  },
  {
   "cell_type": "code",
   "execution_count": 31,
   "metadata": {},
   "outputs": [
    {
     "data": {
      "text/plain": [
       "(1743, 40)"
      ]
     },
     "execution_count": 31,
     "metadata": {},
     "output_type": "execute_result"
    }
   ],
   "source": [
    "features = df_top5.drop(['craton'], axis=1)\n",
    "features.shape"
   ]
  },
  {
   "cell_type": "code",
   "execution_count": 32,
   "metadata": {},
   "outputs": [
    {
     "data": {
      "text/html": [
       "<div>\n",
       "<style scoped>\n",
       "    .dataframe tbody tr th:only-of-type {\n",
       "        vertical-align: middle;\n",
       "    }\n",
       "\n",
       "    .dataframe tbody tr th {\n",
       "        vertical-align: top;\n",
       "    }\n",
       "\n",
       "    .dataframe thead th {\n",
       "        text-align: right;\n",
       "    }\n",
       "</style>\n",
       "<table border=\"1\" class=\"dataframe\">\n",
       "  <thead>\n",
       "    <tr style=\"text-align: right;\">\n",
       "      <th></th>\n",
       "      <th>Si</th>\n",
       "      <th>Ti</th>\n",
       "      <th>Al</th>\n",
       "      <th>Cr</th>\n",
       "      <th>V</th>\n",
       "      <th>Mn</th>\n",
       "      <th>Mg</th>\n",
       "      <th>Ca</th>\n",
       "      <th>Sr</th>\n",
       "      <th>Ba</th>\n",
       "      <th>Na</th>\n",
       "      <th>P</th>\n",
       "      <th>K</th>\n",
       "      <th>Fe</th>\n",
       "      <th>Co</th>\n",
       "      <th>Ni</th>\n",
       "      <th>S</th>\n",
       "      <th>Zn</th>\n",
       "      <th>Cr_trace</th>\n",
       "      <th>Co_trace</th>\n",
       "      <th>Ni_trace</th>\n",
       "      <th>Sr_trace</th>\n",
       "      <th>Y_trace</th>\n",
       "      <th>Zr_trace</th>\n",
       "      <th>Nb_trace</th>\n",
       "      <th>Ba_trace</th>\n",
       "      <th>La_trace</th>\n",
       "      <th>Ce_trace</th>\n",
       "      <th>Nd_trace</th>\n",
       "      <th>Sm_trace</th>\n",
       "      <th>Eu_trace</th>\n",
       "      <th>Dy_trace</th>\n",
       "      <th>Er_trace</th>\n",
       "      <th>Yb_trace</th>\n",
       "      <th>Ti_trace</th>\n",
       "      <th>Fe_trace</th>\n",
       "      <th>Al_trace</th>\n",
       "      <th>Ca_trace</th>\n",
       "      <th>Mn_trace</th>\n",
       "      <th>Mg_trace</th>\n",
       "    </tr>\n",
       "  </thead>\n",
       "  <tbody>\n",
       "    <tr>\n",
       "      <th>0</th>\n",
       "      <td>0.000000</td>\n",
       "      <td>30.353616</td>\n",
       "      <td>0.008470</td>\n",
       "      <td>0.027368</td>\n",
       "      <td>0.0</td>\n",
       "      <td>0.363968</td>\n",
       "      <td>0.270</td>\n",
       "      <td>0.017143</td>\n",
       "      <td>0.0</td>\n",
       "      <td>0.0</td>\n",
       "      <td>0.023741</td>\n",
       "      <td>0.0</td>\n",
       "      <td>0.026553</td>\n",
       "      <td>37.022328</td>\n",
       "      <td>0.0</td>\n",
       "      <td>0.037718</td>\n",
       "      <td>0.0</td>\n",
       "      <td>0.0</td>\n",
       "      <td>136.0</td>\n",
       "      <td>79.0</td>\n",
       "      <td>31.0</td>\n",
       "      <td>0.2</td>\n",
       "      <td>0.300</td>\n",
       "      <td>27.4</td>\n",
       "      <td>335.0</td>\n",
       "      <td>4.00</td>\n",
       "      <td>0.600</td>\n",
       "      <td>2.100</td>\n",
       "      <td>0.60</td>\n",
       "      <td>0.192</td>\n",
       "      <td>0.0760</td>\n",
       "      <td>0.1472</td>\n",
       "      <td>0.224</td>\n",
       "      <td>0.1000</td>\n",
       "      <td>NaN</td>\n",
       "      <td>NaN</td>\n",
       "      <td>NaN</td>\n",
       "      <td>55.640</td>\n",
       "      <td>2706.0</td>\n",
       "      <td>NaN</td>\n",
       "    </tr>\n",
       "    <tr>\n",
       "      <th>1</th>\n",
       "      <td>0.014000</td>\n",
       "      <td>32.007960</td>\n",
       "      <td>0.047646</td>\n",
       "      <td>0.027368</td>\n",
       "      <td>0.0</td>\n",
       "      <td>0.394944</td>\n",
       "      <td>0.342</td>\n",
       "      <td>0.028572</td>\n",
       "      <td>0.0</td>\n",
       "      <td>0.0</td>\n",
       "      <td>0.023741</td>\n",
       "      <td>0.0</td>\n",
       "      <td>0.033192</td>\n",
       "      <td>33.281206</td>\n",
       "      <td>0.0</td>\n",
       "      <td>0.094296</td>\n",
       "      <td>0.0</td>\n",
       "      <td>0.0</td>\n",
       "      <td>260.0</td>\n",
       "      <td>56.0</td>\n",
       "      <td>181.0</td>\n",
       "      <td>0.4</td>\n",
       "      <td>0.800</td>\n",
       "      <td>56.6</td>\n",
       "      <td>227.0</td>\n",
       "      <td>3.20</td>\n",
       "      <td>0.700</td>\n",
       "      <td>2.400</td>\n",
       "      <td>2.50</td>\n",
       "      <td>0.312</td>\n",
       "      <td>0.1112</td>\n",
       "      <td>0.1288</td>\n",
       "      <td>0.392</td>\n",
       "      <td>0.3280</td>\n",
       "      <td>NaN</td>\n",
       "      <td>NaN</td>\n",
       "      <td>NaN</td>\n",
       "      <td>97.424</td>\n",
       "      <td>3251.0</td>\n",
       "      <td>NaN</td>\n",
       "    </tr>\n",
       "    <tr>\n",
       "      <th>2</th>\n",
       "      <td>0.070000</td>\n",
       "      <td>0.689310</td>\n",
       "      <td>1.138210</td>\n",
       "      <td>2.155230</td>\n",
       "      <td>0.0</td>\n",
       "      <td>0.201344</td>\n",
       "      <td>29.868</td>\n",
       "      <td>0.017143</td>\n",
       "      <td>0.0</td>\n",
       "      <td>0.0</td>\n",
       "      <td>0.023741</td>\n",
       "      <td>0.0</td>\n",
       "      <td>0.026553</td>\n",
       "      <td>36.368993</td>\n",
       "      <td>0.0</td>\n",
       "      <td>0.809374</td>\n",
       "      <td>0.0</td>\n",
       "      <td>0.0</td>\n",
       "      <td>4172.0</td>\n",
       "      <td>429.0</td>\n",
       "      <td>6375.0</td>\n",
       "      <td>1.6</td>\n",
       "      <td>0.144</td>\n",
       "      <td>25.2</td>\n",
       "      <td>4.8</td>\n",
       "      <td>0.56</td>\n",
       "      <td>0.096</td>\n",
       "      <td>0.056</td>\n",
       "      <td>0.32</td>\n",
       "      <td>0.400</td>\n",
       "      <td>0.1600</td>\n",
       "      <td>0.3200</td>\n",
       "      <td>0.640</td>\n",
       "      <td>0.3200</td>\n",
       "      <td>NaN</td>\n",
       "      <td>NaN</td>\n",
       "      <td>NaN</td>\n",
       "      <td>156.800</td>\n",
       "      <td>1887.0</td>\n",
       "      <td>NaN</td>\n",
       "    </tr>\n",
       "    <tr>\n",
       "      <th>3</th>\n",
       "      <td>0.004667</td>\n",
       "      <td>30.101868</td>\n",
       "      <td>0.008470</td>\n",
       "      <td>0.027368</td>\n",
       "      <td>0.0</td>\n",
       "      <td>0.565312</td>\n",
       "      <td>0.072</td>\n",
       "      <td>0.021429</td>\n",
       "      <td>0.0</td>\n",
       "      <td>0.0</td>\n",
       "      <td>0.023741</td>\n",
       "      <td>0.0</td>\n",
       "      <td>0.026553</td>\n",
       "      <td>35.941214</td>\n",
       "      <td>0.0</td>\n",
       "      <td>0.037718</td>\n",
       "      <td>0.0</td>\n",
       "      <td>0.0</td>\n",
       "      <td>2944.0</td>\n",
       "      <td>155.0</td>\n",
       "      <td>790.0</td>\n",
       "      <td>0.2</td>\n",
       "      <td>0.300</td>\n",
       "      <td>348.7</td>\n",
       "      <td>646.0</td>\n",
       "      <td>2.30</td>\n",
       "      <td>0.500</td>\n",
       "      <td>1.900</td>\n",
       "      <td>0.70</td>\n",
       "      <td>0.300</td>\n",
       "      <td>0.0688</td>\n",
       "      <td>0.1864</td>\n",
       "      <td>0.248</td>\n",
       "      <td>0.1544</td>\n",
       "      <td>NaN</td>\n",
       "      <td>NaN</td>\n",
       "      <td>NaN</td>\n",
       "      <td>71.488</td>\n",
       "      <td>2397.0</td>\n",
       "      <td>NaN</td>\n",
       "    </tr>\n",
       "    <tr>\n",
       "      <th>4</th>\n",
       "      <td>0.028000</td>\n",
       "      <td>32.463504</td>\n",
       "      <td>0.068822</td>\n",
       "      <td>0.027368</td>\n",
       "      <td>0.0</td>\n",
       "      <td>0.325248</td>\n",
       "      <td>0.300</td>\n",
       "      <td>0.017143</td>\n",
       "      <td>0.0</td>\n",
       "      <td>0.0</td>\n",
       "      <td>0.023741</td>\n",
       "      <td>0.0</td>\n",
       "      <td>0.026553</td>\n",
       "      <td>31.290089</td>\n",
       "      <td>0.0</td>\n",
       "      <td>0.055006</td>\n",
       "      <td>0.0</td>\n",
       "      <td>0.0</td>\n",
       "      <td>153.0</td>\n",
       "      <td>53.0</td>\n",
       "      <td>13.0</td>\n",
       "      <td>0.3</td>\n",
       "      <td>0.500</td>\n",
       "      <td>68.7</td>\n",
       "      <td>205.0</td>\n",
       "      <td>8.80</td>\n",
       "      <td>0.800</td>\n",
       "      <td>2.900</td>\n",
       "      <td>0.70</td>\n",
       "      <td>0.100</td>\n",
       "      <td>0.0000</td>\n",
       "      <td>0.1000</td>\n",
       "      <td>0.256</td>\n",
       "      <td>0.5000</td>\n",
       "      <td>NaN</td>\n",
       "      <td>NaN</td>\n",
       "      <td>NaN</td>\n",
       "      <td>67.304</td>\n",
       "      <td>2898.0</td>\n",
       "      <td>NaN</td>\n",
       "    </tr>\n",
       "  </tbody>\n",
       "</table>\n",
       "</div>"
      ],
      "text/plain": [
       "         Si         Ti        Al        Cr    V        Mn      Mg        Ca  \\\n",
       "0  0.000000  30.353616  0.008470  0.027368  0.0  0.363968   0.270  0.017143   \n",
       "1  0.014000  32.007960  0.047646  0.027368  0.0  0.394944   0.342  0.028572   \n",
       "2  0.070000   0.689310  1.138210  2.155230  0.0  0.201344  29.868  0.017143   \n",
       "3  0.004667  30.101868  0.008470  0.027368  0.0  0.565312   0.072  0.021429   \n",
       "4  0.028000  32.463504  0.068822  0.027368  0.0  0.325248   0.300  0.017143   \n",
       "\n",
       "    Sr   Ba        Na    P         K         Fe   Co        Ni    S   Zn  \\\n",
       "0  0.0  0.0  0.023741  0.0  0.026553  37.022328  0.0  0.037718  0.0  0.0   \n",
       "1  0.0  0.0  0.023741  0.0  0.033192  33.281206  0.0  0.094296  0.0  0.0   \n",
       "2  0.0  0.0  0.023741  0.0  0.026553  36.368993  0.0  0.809374  0.0  0.0   \n",
       "3  0.0  0.0  0.023741  0.0  0.026553  35.941214  0.0  0.037718  0.0  0.0   \n",
       "4  0.0  0.0  0.023741  0.0  0.026553  31.290089  0.0  0.055006  0.0  0.0   \n",
       "\n",
       "   Cr_trace  Co_trace  Ni_trace  Sr_trace  Y_trace  Zr_trace  Nb_trace  \\\n",
       "0     136.0      79.0      31.0       0.2    0.300      27.4     335.0   \n",
       "1     260.0      56.0     181.0       0.4    0.800      56.6     227.0   \n",
       "2    4172.0     429.0    6375.0       1.6    0.144      25.2       4.8   \n",
       "3    2944.0     155.0     790.0       0.2    0.300     348.7     646.0   \n",
       "4     153.0      53.0      13.0       0.3    0.500      68.7     205.0   \n",
       "\n",
       "   Ba_trace  La_trace  Ce_trace  Nd_trace  Sm_trace  Eu_trace  Dy_trace  \\\n",
       "0      4.00     0.600     2.100      0.60     0.192    0.0760    0.1472   \n",
       "1      3.20     0.700     2.400      2.50     0.312    0.1112    0.1288   \n",
       "2      0.56     0.096     0.056      0.32     0.400    0.1600    0.3200   \n",
       "3      2.30     0.500     1.900      0.70     0.300    0.0688    0.1864   \n",
       "4      8.80     0.800     2.900      0.70     0.100    0.0000    0.1000   \n",
       "\n",
       "   Er_trace  Yb_trace  Ti_trace  Fe_trace  Al_trace  Ca_trace  Mn_trace  \\\n",
       "0     0.224    0.1000       NaN       NaN       NaN    55.640    2706.0   \n",
       "1     0.392    0.3280       NaN       NaN       NaN    97.424    3251.0   \n",
       "2     0.640    0.3200       NaN       NaN       NaN   156.800    1887.0   \n",
       "3     0.248    0.1544       NaN       NaN       NaN    71.488    2397.0   \n",
       "4     0.256    0.5000       NaN       NaN       NaN    67.304    2898.0   \n",
       "\n",
       "   Mg_trace  \n",
       "0       NaN  \n",
       "1       NaN  \n",
       "2       NaN  \n",
       "3       NaN  \n",
       "4       NaN  "
      ]
     },
     "execution_count": 32,
     "metadata": {},
     "output_type": "execute_result"
    }
   ],
   "source": [
    "features.head()"
   ]
  },
  {
   "cell_type": "code",
   "execution_count": 33,
   "metadata": {
    "scrolled": true
   },
   "outputs": [
    {
     "data": {
      "text/plain": [
       "Index(['Si', 'Ti', 'Al', 'Cr', 'V', 'Mn', 'Mg', 'Ca', 'Sr', 'Ba', 'Na', 'P',\n",
       "       'K', 'Fe', 'Co', 'Ni', 'S', 'Zn', 'Cr_trace', 'Co_trace', 'Ni_trace',\n",
       "       'Sr_trace', 'Y_trace', 'Zr_trace', 'Nb_trace', 'Ba_trace', 'La_trace',\n",
       "       'Ce_trace', 'Nd_trace', 'Sm_trace', 'Eu_trace', 'Dy_trace', 'Er_trace',\n",
       "       'Yb_trace', 'Ti_trace', 'Fe_trace', 'Al_trace', 'Ca_trace', 'Mn_trace',\n",
       "       'Mg_trace'],\n",
       "      dtype='object')"
      ]
     },
     "execution_count": 33,
     "metadata": {},
     "output_type": "execute_result"
    }
   ],
   "source": [
    "features.columns"
   ]
  },
  {
   "cell_type": "code",
   "execution_count": 34,
   "metadata": {},
   "outputs": [],
   "source": [
    "def plot_importance(feature_df, model, n_feature):\n",
    "    '''\n",
    "    Input:\n",
    "        feature_df: The feature dataframe / The X_train with column names\n",
    "        model: The training model\n",
    "        n_feature: number of feature importance you want to display\n",
    "    Output:\n",
    "        A plot with the top n feature importance in decreasing order\n",
    "    '''\n",
    "    vals = model.feature_importances_\n",
    "    df = pd.DataFrame(vals, index=feature_df.columns, columns=['Importance']).sort_values(by='Importance', ascending=False)\n",
    "    df_n = df.iloc[:n_feature,]\n",
    "    plt.figure(figsize=(16, 9))\n",
    "    plt.bar(df_n.index, df_n.Importance)\n",
    "    plt.xticks(rotation=45)"
   ]
  },
  {
   "cell_type": "code",
   "execution_count": 35,
   "metadata": {},
   "outputs": [],
   "source": [
    "def get_metrics(mod, X_train, X_test, y_train, y_test):\n",
    "    \"\"\" Returns a data frame of metrics (precision,\n",
    "        recall, AUC ROC) from training and test sets.\n",
    "        Assumes model has decision_function() method.\n",
    "        This will at least work for SVC, LDA, QDA.\n",
    "    \"\"\"\n",
    "    pred_train = mod.predict(X_train)\n",
    "    pred_test = mod.predict(X_test)\n",
    "    recall_train = recall_score(y_train, pred_train,average='weighted')\n",
    "    recall_test = recall_score(y_test, pred_test, average='weighted')\n",
    "    precision_train = precision_score(y_train, pred_train, average='weighted')\n",
    "    precision_test = precision_score(y_test, pred_test, average='weighted')\n",
    "    #rocauc_train = roc_auc_score(y_train, pred_train, average='weighted', multi_class='ovr')\n",
    "    #rocauc_test = roc_auc_score(y_test, pred_test,average='weighted',multi_class='ovr')\n",
    "    metrics = {'Set':['Train', 'Test'],\n",
    "               'Recall':[recall_train, recall_test],\n",
    "               'Precision':[precision_train, precision_test],\n",
    "               #'ROC AUC':[rocauc_train, rocauc_test]}\n",
    "              }\n",
    "    return pd.DataFrame(metrics)"
   ]
  },
  {
   "cell_type": "markdown",
   "metadata": {},
   "source": [
    "### Split into training set and test set"
   ]
  },
  {
   "cell_type": "code",
   "execution_count": 36,
   "metadata": {},
   "outputs": [
    {
     "data": {
      "text/plain": [
       "((1394, 40), (349, 40), (1394,), (349,))"
      ]
     },
     "execution_count": 36,
     "metadata": {},
     "output_type": "execute_result"
    }
   ],
   "source": [
    "X_train, X_test, y_train, y_test = train_test_split(features, cratons, test_size=0.2, \n",
    "                                                    stratify = cratons, random_state = 2020)\n",
    "\n",
    "X_train.shape, X_test.shape, y_train.shape, y_test.shape"
   ]
  },
  {
   "cell_type": "code",
   "execution_count": 37,
   "metadata": {},
   "outputs": [
    {
     "data": {
      "text/plain": [
       "<matplotlib.axes._subplots.AxesSubplot at 0x1c1e10ff10>"
      ]
     },
     "execution_count": 37,
     "metadata": {},
     "output_type": "execute_result"
    },
    {
     "data": {
      "image/png": "[encoded data removed]",
      "text/plain": [
       "<Figure size 432x288 with 1 Axes>"
      ]
     },
     "metadata": {
      "needs_background": "light"
     },
     "output_type": "display_data"
    }
   ],
   "source": [
    "sns.countplot(y_train)"
   ]
  },
  {
   "cell_type": "code",
   "execution_count": 38,
   "metadata": {},
   "outputs": [],
   "source": [
    "from sklearn.utils import class_weight\n",
    "class_weights = list(class_weight.compute_class_weight('balanced',\n",
    "                                             np.unique(df['craton']),\n",
    "                                             df['craton']))\n",
    "\n",
    "w_array = np.ones(y_train.shape[0], dtype = 'float')\n",
    "for i, val in enumerate(y_train):\n",
    "    w_array[i] = class_weights[val-1]"
   ]
  },
  {
   "cell_type": "code",
   "execution_count": 39,
   "metadata": {},
   "outputs": [],
   "source": [
    "#from sklearn.utils.class_weight import compute_sample_weight\n",
    "# xgb_classifier.fit(X, y, sample_weight=compute_sample_weight(\"balanced\", y))"
   ]
  },
  {
   "cell_type": "markdown",
   "metadata": {},
   "source": [
    "### XGBoost"
   ]
  },
  {
   "cell_type": "markdown",
   "metadata": {},
   "source": [
    "# Base Models"
   ]
  },
  {
   "cell_type": "code",
   "execution_count": 40,
   "metadata": {},
   "outputs": [],
   "source": [
    "xg = XGBClassifier(random_state=2020)\n",
    "xg.fit(X_train, y_train)\n",
    "y_train_preds = xg.predict(X_train)\n",
    "y_test_preds = xg.predict(X_test)"
   ]
  },
  {
   "cell_type": "code",
   "execution_count": 48,
   "metadata": {},
   "outputs": [
    {
     "name": "stdout",
     "output_type": "stream",
     "text": [
      "     Set    Recall  Precision\n",
      "0  Train  1.000000   1.000000\n",
      "1   Test  0.974212   0.974161\n"
     ]
    },
    {
     "data": {
      "image/png": "[encoded data removed]",
      "text/plain": [
       "<Figure size 1152x648 with 1 Axes>"
      ]
     },
     "metadata": {
      "needs_background": "light"
     },
     "output_type": "display_data"
    }
   ],
   "source": [
    "print(get_metrics(xg, X_train, X_test, y_train, y_test))\n",
    "plot_importance(features, xg, 35)"
   ]
  },
  {
   "cell_type": "code",
   "execution_count": 94,
   "metadata": {},
   "outputs": [],
   "source": [
    "# xgb = XGBClassifier(subsample=0.5, colsample_bytree=0.1, objective='multi:softmax', num_class = 9, \n",
    "#                     eval_metric = 'merror', seed=2020)"
   ]
  },
  {
   "cell_type": "code",
   "execution_count": 46,
   "metadata": {},
   "outputs": [],
   "source": [
    "xgb = XGBClassifier(objective='multi:softmax', num_class = 5, \n",
    "                    eval_metric = 'merror', seed=2021)\n",
    "xgb.fit(X_train, y_train)\n",
    "y_train_preds = xgb.predict(X_train)\n",
    "y_test_preds = xgb.predict(X_test)\n",
    "\n",
    "#May not work since got the same scores"
   ]
  },
  {
   "cell_type": "code",
   "execution_count": 47,
   "metadata": {},
   "outputs": [
    {
     "data": {
      "text/html": [
       "<div>\n",
       "<style scoped>\n",
       "    .dataframe tbody tr th:only-of-type {\n",
       "        vertical-align: middle;\n",
       "    }\n",
       "\n",
       "    .dataframe tbody tr th {\n",
       "        vertical-align: top;\n",
       "    }\n",
       "\n",
       "    .dataframe thead th {\n",
       "        text-align: right;\n",
       "    }\n",
       "</style>\n",
       "<table border=\"1\" class=\"dataframe\">\n",
       "  <thead>\n",
       "    <tr style=\"text-align: right;\">\n",
       "      <th></th>\n",
       "      <th>Set</th>\n",
       "      <th>Recall</th>\n",
       "      <th>Precision</th>\n",
       "    </tr>\n",
       "  </thead>\n",
       "  <tbody>\n",
       "    <tr>\n",
       "      <th>0</th>\n",
       "      <td>Train</td>\n",
       "      <td>1.000000</td>\n",
       "      <td>1.000000</td>\n",
       "    </tr>\n",
       "    <tr>\n",
       "      <th>1</th>\n",
       "      <td>Test</td>\n",
       "      <td>0.974212</td>\n",
       "      <td>0.974161</td>\n",
       "    </tr>\n",
       "  </tbody>\n",
       "</table>\n",
       "</div>"
      ],
      "text/plain": [
       "     Set    Recall  Precision\n",
       "0  Train  1.000000   1.000000\n",
       "1   Test  0.974212   0.974161"
      ]
     },
     "execution_count": 47,
     "metadata": {},
     "output_type": "execute_result"
    }
   ],
   "source": [
    "get_metrics(xgb, X_train, X_test, y_train, y_test)"
   ]
  },
  {
   "cell_type": "code",
   "execution_count": 49,
   "metadata": {},
   "outputs": [
    {
     "data": {
      "image/png": "[encoded data removed]",
      "text/plain": [
       "<Figure size 1152x648 with 1 Axes>"
      ]
     },
     "metadata": {
      "needs_background": "light"
     },
     "output_type": "display_data"
    }
   ],
   "source": [
    "plot_importance(features, xgb, 35)"
   ]
  },
  {
   "cell_type": "markdown",
   "metadata": {},
   "source": [
    "### Model Optimization"
   ]
  },
  {
   "cell_type": "code",
   "execution_count": 50,
   "metadata": {},
   "outputs": [],
   "source": [
    "learning_rate = [0.01, 0.05, 0.1, 0.2, 1]\n",
    "depth = [3, 4, 5, 6, 7]\n",
    "min_split = [1, 2, 3, 4, 5]"
   ]
  },
  {
   "cell_type": "code",
   "execution_count": 51,
   "metadata": {},
   "outputs": [],
   "source": [
    "# scorings = {'f1_samples': make_scorer(recall_score, average = 'samples'),\n",
    "#            'f1_macro': make_scorer(f1_score, average = 'macro'),\n",
    "#            'f1_weighted': make_scorer(f1_score, average = 'weighted')}"
   ]
  },
  {
   "cell_type": "code",
   "execution_count": 52,
   "metadata": {},
   "outputs": [],
   "source": [
    "# scorings = {'accuracy': make_scorer(accuracy_score), \n",
    "#            'f1_samples': make_scorer(recall_score, average = 'samples'),\n",
    "#            'f1_macro': make_scorer(f1_score, average = 'macro'),\n",
    "#            'f1_weighted': make_scorer(f1_score, average = 'weighted')}"
   ]
  },
  {
   "cell_type": "code",
   "execution_count": 53,
   "metadata": {},
   "outputs": [],
   "source": [
    "xgb = XGBClassifier(objective='multi:softmax', num_class = 5, \n",
    "                    eval_metric = 'merror', tree_method='hist', seed=2021)"
   ]
  },
  {
   "cell_type": "code",
   "execution_count": 54,
   "metadata": {
    "scrolled": false
   },
   "outputs": [
    {
     "data": {
      "text/plain": [
       "GridSearchCV(cv=5,\n",
       "             estimator=XGBClassifier(base_score=None, booster=None,\n",
       "                                     colsample_bylevel=None,\n",
       "                                     colsample_bynode=None,\n",
       "                                     colsample_bytree=None,\n",
       "                                     eval_metric='merror', gamma=None,\n",
       "                                     gpu_id=None, importance_type='gain',\n",
       "                                     interaction_constraints=None,\n",
       "                                     learning_rate=None, max_delta_step=None,\n",
       "                                     max_depth=None, min_child_weight=None,\n",
       "                                     missing=nan, monotone_constraints=None,\n",
       "                                     n_estimators=100, n_jobs=None, num_class=5,\n",
       "                                     num_parallel_tree=None,\n",
       "                                     objective='multi:softmax',\n",
       "                                     random_state=None, reg_alpha=None,\n",
       "                                     reg_lambda=None, scale_pos_weight=None,\n",
       "                                     seed=2021, subsample=None,\n",
       "                                     tree_method='hist',\n",
       "                                     validate_parameters=None, verbosity=None),\n",
       "             param_grid={'eta': [0.01, 0.05, 0.1, 0.2, 1],\n",
       "                         'gamma': [1, 2, 3, 4, 5],\n",
       "                         'max_depth': [3, 4, 5, 6, 7]},\n",
       "             scoring='accuracy')"
      ]
     },
     "execution_count": 54,
     "metadata": {},
     "output_type": "execute_result"
    }
   ],
   "source": [
    "xgb_cv = GridSearchCV(xgb, param_grid = {'eta': learning_rate, 'gamma': min_split, 'max_depth': depth}, \n",
    "                      cv=5, scoring='accuracy')\n",
    "xgb_cv.fit(X_train, y_train)"
   ]
  },
  {
   "cell_type": "code",
   "execution_count": 55,
   "metadata": {},
   "outputs": [
    {
     "data": {
      "text/plain": [
       "{'eta': 0.05, 'gamma': 1, 'max_depth': 7}"
      ]
     },
     "execution_count": 55,
     "metadata": {},
     "output_type": "execute_result"
    }
   ],
   "source": [
    "xgb_cv.best_params_"
   ]
  },
  {
   "cell_type": "code",
   "execution_count": 56,
   "metadata": {},
   "outputs": [
    {
     "data": {
      "text/plain": [
       "XGBClassifier(base_score=0.5, booster='gbtree', colsample_bylevel=1,\n",
       "              colsample_bynode=1, colsample_bytree=1, eta=0.05,\n",
       "              eval_metric='merror', gamma=1, gpu_id=-1, importance_type='gain',\n",
       "              interaction_constraints='', learning_rate=0.0500000007,\n",
       "              max_delta_step=0, max_depth=7, min_child_weight=1, missing=nan,\n",
       "              monotone_constraints='()', n_estimators=100, n_jobs=0,\n",
       "              num_class=5, num_parallel_tree=1, objective='multi:softprob',\n",
       "              random_state=2021, reg_alpha=0, reg_lambda=1,\n",
       "              scale_pos_weight=None, seed=2021, subsample=1, tree_method='hist',\n",
       "              validate_parameters=1, ...)"
      ]
     },
     "execution_count": 56,
     "metadata": {},
     "output_type": "execute_result"
    }
   ],
   "source": [
    "xgb_cv.best_estimator_"
   ]
  },
  {
   "cell_type": "code",
   "execution_count": 57,
   "metadata": {},
   "outputs": [
    {
     "data": {
      "text/plain": [
       "0.9519300688481472"
      ]
     },
     "execution_count": 57,
     "metadata": {},
     "output_type": "execute_result"
    }
   ],
   "source": [
    "xgb_cv.best_score_"
   ]
  },
  {
   "cell_type": "code",
   "execution_count": 58,
   "metadata": {},
   "outputs": [],
   "source": [
    "xgb_best = xgb_cv.best_estimator_"
   ]
  },
  {
   "cell_type": "code",
   "execution_count": 59,
   "metadata": {},
   "outputs": [],
   "source": [
    "y_train_preds = xgb_best.predict(X_train)\n",
    "y_test_preds = xgb_best.predict(X_test)"
   ]
  },
  {
   "cell_type": "code",
   "execution_count": 61,
   "metadata": {},
   "outputs": [
    {
     "name": "stdout",
     "output_type": "stream",
     "text": [
      "     Set    Recall  Precision\n",
      "0  Train  0.989957   0.990008\n",
      "1   Test  0.957020   0.958586\n"
     ]
    }
   ],
   "source": [
    "print(get_metrics(xgb_best, X_train, X_test, y_train, y_test))"
   ]
  },
  {
   "cell_type": "code",
   "execution_count": 62,
   "metadata": {},
   "outputs": [
    {
     "data": {
      "image/png": "[encoded data removed]",
      "text/plain": [
       "<Figure size 1152x648 with 1 Axes>"
      ]
     },
     "metadata": {
      "needs_background": "light"
     },
     "output_type": "display_data"
    }
   ],
   "source": [
    "plot_importance(features, xgb_best, 35)"
   ]
  },
  {
   "cell_type": "markdown",
   "metadata": {},
   "source": [
    "### ============ Save the best model =================================="
   ]
  },
  {
   "cell_type": "code",
   "execution_count": 63,
   "metadata": {},
   "outputs": [
    {
     "data": {
      "text/plain": [
       "XGBClassifier(base_score=0.5, booster='gbtree', colsample_bylevel=1,\n",
       "              colsample_bynode=1, colsample_bytree=1, eta=0.05,\n",
       "              eval_metric='merror', gamma=1, gpu_id=-1, importance_type='gain',\n",
       "              interaction_constraints='', learning_rate=0.0500000007,\n",
       "              max_delta_step=0, max_depth=7, min_child_weight=1, missing=nan,\n",
       "              monotone_constraints='()', n_estimators=100, n_jobs=0,\n",
       "              num_class=5, num_parallel_tree=1, objective='multi:softprob',\n",
       "              random_state=2021, reg_alpha=0, reg_lambda=1,\n",
       "              scale_pos_weight=None, seed=2021, subsample=1, tree_method='hist',\n",
       "              validate_parameters=1, ...)"
      ]
     },
     "execution_count": 63,
     "metadata": {},
     "output_type": "execute_result"
    }
   ],
   "source": [
    "xgb_best = XGBClassifier(objective='multi:softmax', num_class = 5, \n",
    "                    eval_metric = 'merror', tree_method='hist', \n",
    "                    eta = 0.05, gamma = 1, max_depth = 7, seed=2021)\n",
    "xgb_best.fit(X_train, y_train)"
   ]
  },
  {
   "cell_type": "code",
   "execution_count": 64,
   "metadata": {},
   "outputs": [],
   "source": [
    "y_train_preds = xgb_best.predict(X_train)\n",
    "y_test_preds = xgb_best.predict(X_test)"
   ]
  },
  {
   "cell_type": "code",
   "execution_count": 65,
   "metadata": {},
   "outputs": [
    {
     "name": "stdout",
     "output_type": "stream",
     "text": [
      "     Set    Recall  Precision\n",
      "0  Train  0.989957   0.990008\n",
      "1   Test  0.957020   0.958586\n"
     ]
    }
   ],
   "source": [
    "print(get_metrics(xgb_best, X_train, X_test, y_train, y_test))"
   ]
  },
  {
   "cell_type": "code",
   "execution_count": 66,
   "metadata": {},
   "outputs": [
    {
     "data": {
      "image/png": "[encoded data removed]",
      "text/plain": [
       "<Figure size 1152x648 with 1 Axes>"
      ]
     },
     "metadata": {
      "needs_background": "light"
     },
     "output_type": "display_data"
    }
   ],
   "source": [
    "plot_importance(features, xgb_best, 35)"
   ]
  },
  {
   "cell_type": "code",
   "execution_count": 67,
   "metadata": {},
   "outputs": [],
   "source": [
    "#pip install shap"
   ]
  },
  {
   "cell_type": "code",
   "execution_count": 68,
   "metadata": {},
   "outputs": [],
   "source": [
    "import shap"
   ]
  },
  {
   "cell_type": "code",
   "execution_count": 69,
   "metadata": {},
   "outputs": [],
   "source": [
    "# explain the model's predictions using SHAP\n",
    "# (same syntax works for LightGBM, CatBoost, scikit-learn and spark models)\n",
    "explainer = shap.TreeExplainer(xgb_best)\n",
    "shap_values = explainer.shap_values(X_train)"
   ]
  },
  {
   "cell_type": "code",
   "execution_count": 70,
   "metadata": {},
   "outputs": [
    {
     "data": {
      "image/png": "[encoded data removed]",
      "text/plain": [
       "<Figure size 576x684 with 1 Axes>"
      ]
     },
     "metadata": {
      "needs_background": "light"
     },
     "output_type": "display_data"
    }
   ],
   "source": [
    "# take the mean absolute value of the SHAP values for \n",
    "# each feature to get a standard bar plot (produces stacked bars for multi-class outputs)\n",
    "shap.summary_plot(shap_values, X_train, plot_type=\"bar\")"
   ]
  },
  {
   "cell_type": "markdown",
   "metadata": {},
   "source": [
    "# Sampling"
   ]
  },
  {
   "cell_type": "code",
   "execution_count": 71,
   "metadata": {},
   "outputs": [],
   "source": [
    "from imblearn.over_sampling import RandomOverSampler #\n",
    "from imblearn.under_sampling import RandomUnderSampler\n",
    "from imblearn.over_sampling import SMOTE\n",
    "from collections import Counter\n",
    "from matplotlib import pyplot\n",
    "pd.options.display.max_columns = None # display all columns"
   ]
  },
  {
   "cell_type": "code",
   "execution_count": 72,
   "metadata": {},
   "outputs": [],
   "source": [
    "# define oversampling strategy\n",
    "oversample = RandomOverSampler(sampling_strategy='minority', random_state=2021)"
   ]
  },
  {
   "cell_type": "code",
   "execution_count": 73,
   "metadata": {},
   "outputs": [],
   "source": [
    "# fit and apply the transform\n",
    "X_o_train, y_o_train = oversample.fit_resample(X_train, y_train)"
   ]
  },
  {
   "cell_type": "code",
   "execution_count": 82,
   "metadata": {},
   "outputs": [],
   "source": [
    "# fit and apply the transform\n",
    "X_o_train, y_o_train = oversample.fit_resample(X_o_train, y_o_train)"
   ]
  },
  {
   "cell_type": "code",
   "execution_count": 83,
   "metadata": {},
   "outputs": [
    {
     "data": {
      "text/plain": [
       "<matplotlib.axes._subplots.AxesSubplot at 0x1c2e4d6650>"
      ]
     },
     "execution_count": 83,
     "metadata": {},
     "output_type": "execute_result"
    },
    {
     "data": {
      "image/png": "[encoded data removed]",
      "text/plain": [
       "<Figure size 432x288 with 1 Axes>"
      ]
     },
     "metadata": {
      "needs_background": "light"
     },
     "output_type": "display_data"
    }
   ],
   "source": [
    "sns.countplot(y_train)"
   ]
  },
  {
   "cell_type": "code",
   "execution_count": 84,
   "metadata": {},
   "outputs": [
    {
     "data": {
      "text/plain": [
       "<matplotlib.axes._subplots.AxesSubplot at 0x1c2e5ba750>"
      ]
     },
     "execution_count": 84,
     "metadata": {},
     "output_type": "execute_result"
    },
    {
     "data": {
      "image/png": "[encoded data removed]",
      "text/plain": [
       "<Figure size 432x288 with 1 Axes>"
      ]
     },
     "metadata": {
      "needs_background": "light"
     },
     "output_type": "display_data"
    }
   ],
   "source": [
    "sns.countplot(y_o_train)"
   ]
  },
  {
   "cell_type": "code",
   "execution_count": 85,
   "metadata": {
    "scrolled": true
   },
   "outputs": [],
   "source": [
    "# fit and apply the transform \n",
    "## X 10 times\n",
    "X_o_train, y_o_train = oversample.fit_resample(X_o_train, y_o_train)"
   ]
  },
  {
   "cell_type": "code",
   "execution_count": 86,
   "metadata": {},
   "outputs": [
    {
     "data": {
      "text/plain": [
       "<matplotlib.axes._subplots.AxesSubplot at 0x1c2e685f90>"
      ]
     },
     "execution_count": 86,
     "metadata": {},
     "output_type": "execute_result"
    },
    {
     "data": {
      "image/png": "[encoded data removed]",
      "text/plain": [
       "<Figure size 432x288 with 1 Axes>"
      ]
     },
     "metadata": {
      "needs_background": "light"
     },
     "output_type": "display_data"
    }
   ],
   "source": [
    "sns.countplot(y_o_train)"
   ]
  },
  {
   "cell_type": "code",
   "execution_count": 87,
   "metadata": {},
   "outputs": [],
   "source": [
    "balance=pd.merge(pd.DataFrame(y_o_train), pd.DataFrame(X_o_train), left_index=True, right_index=True)"
   ]
  },
  {
   "cell_type": "code",
   "execution_count": 88,
   "metadata": {},
   "outputs": [
    {
     "data": {
      "text/plain": [
       "(array([0, 1, 2, 3, 4]), <a list of 5 Text xticklabel objects>)"
      ]
     },
     "execution_count": 88,
     "metadata": {},
     "output_type": "execute_result"
    },
    {
     "data": {
      "image/png": "[encoded data removed]",
      "text/plain": [
       "<Figure size 1152x432 with 1 Axes>"
      ]
     },
     "metadata": {
      "needs_background": "light"
     },
     "output_type": "display_data"
    }
   ],
   "source": [
    "plt.figure(figsize=(16, 6))\n",
    "sns.countplot(balance.iloc[:, 0])\n",
    "plt.xticks(rotation=45)"
   ]
  },
  {
   "cell_type": "code",
   "execution_count": 89,
   "metadata": {},
   "outputs": [],
   "source": [
    "xg_bala = XGBClassifier(random_state=2020)\n",
    "xg_bala.fit(X_o_train, y_o_train)\n",
    "y_train_preds = xg_bala.predict(X_o_train)\n",
    "y_test_preds = xg_bala.predict(X_test)"
   ]
  },
  {
   "cell_type": "code",
   "execution_count": 92,
   "metadata": {},
   "outputs": [
    {
     "name": "stdout",
     "output_type": "stream",
     "text": [
      "     Set    Recall  Precision\n",
      "0  Train  1.000000    1.00000\n",
      "1   Test  0.971347    0.97145\n"
     ]
    }
   ],
   "source": [
    "print(get_metrics(xg_bala, X_o_train, X_test, y_o_train, y_test))"
   ]
  },
  {
   "cell_type": "code",
   "execution_count": 93,
   "metadata": {},
   "outputs": [],
   "source": [
    "xgb = XGBClassifier(objective='multi:softmax', num_class = 5, \n",
    "                    eval_metric = 'merror', tree_method='hist', seed=2020)"
   ]
  },
  {
   "cell_type": "code",
   "execution_count": 94,
   "metadata": {},
   "outputs": [
    {
     "data": {
      "text/plain": [
       "GridSearchCV(cv=5,\n",
       "             estimator=XGBClassifier(base_score=None, booster=None,\n",
       "                                     colsample_bylevel=None,\n",
       "                                     colsample_bynode=None,\n",
       "                                     colsample_bytree=None,\n",
       "                                     eval_metric='merror', gamma=None,\n",
       "                                     gpu_id=None, importance_type='gain',\n",
       "                                     interaction_constraints=None,\n",
       "                                     learning_rate=None, max_delta_step=None,\n",
       "                                     max_depth=None, min_child_weight=None,\n",
       "                                     missing=nan, monotone_constraints=None,\n",
       "                                     n_estimators=100, n_jobs=None, num_class=5,\n",
       "                                     num_parallel_tree=None,\n",
       "                                     objective='multi:softmax',\n",
       "                                     random_state=None, reg_alpha=None,\n",
       "                                     reg_lambda=None, scale_pos_weight=None,\n",
       "                                     seed=2020, subsample=None,\n",
       "                                     tree_method='hist',\n",
       "                                     validate_parameters=None, verbosity=None),\n",
       "             param_grid={'eta': [0.01, 0.05, 0.1, 0.2, 1],\n",
       "                         'gamma': [1, 2, 3, 4, 5],\n",
       "                         'max_depth': [3, 4, 5, 6, 7]},\n",
       "             scoring='accuracy')"
      ]
     },
     "execution_count": 94,
     "metadata": {},
     "output_type": "execute_result"
    }
   ],
   "source": [
    "xgb_cv = GridSearchCV(xgb, param_grid = {'eta': learning_rate, 'gamma': min_split, 'max_depth': depth}, \n",
    "                      cv=5, scoring='accuracy')\n",
    "xgb_cv.fit(X_o_train, y_o_train)"
   ]
  },
  {
   "cell_type": "code",
   "execution_count": 143,
   "metadata": {},
   "outputs": [
    {
     "data": {
      "text/plain": [
       "{'eta': 0.1, 'gamma': 1, 'max_depth': 7}"
      ]
     },
     "execution_count": 143,
     "metadata": {},
     "output_type": "execute_result"
    }
   ],
   "source": [
    "xgb_cv.best_params_"
   ]
  },
  {
   "cell_type": "code",
   "execution_count": 144,
   "metadata": {},
   "outputs": [
    {
     "data": {
      "text/plain": [
       "XGBClassifier(base_score=0.5, booster='gbtree', colsample_bylevel=1,\n",
       "              colsample_bynode=1, colsample_bytree=1, eta=0.1,\n",
       "              eval_metric='merror', gamma=1, gpu_id=-1, importance_type='gain',\n",
       "              interaction_constraints='', learning_rate=0.100000001,\n",
       "              max_delta_step=0, max_depth=7, min_child_weight=1, missing=nan,\n",
       "              monotone_constraints='()', n_estimators=100, n_jobs=0,\n",
       "              num_class=17, num_parallel_tree=1, objective='multi:softprob',\n",
       "              random_state=2020, reg_alpha=0, reg_lambda=1,\n",
       "              scale_pos_weight=None, seed=2020, subsample=1, tree_method='hist',\n",
       "              validate_parameters=1, ...)"
      ]
     },
     "execution_count": 144,
     "metadata": {},
     "output_type": "execute_result"
    }
   ],
   "source": [
    "xgb_cv.best_estimator_"
   ]
  },
  {
   "cell_type": "code",
   "execution_count": 95,
   "metadata": {},
   "outputs": [
    {
     "data": {
      "text/plain": [
       "0.9841726618705036"
      ]
     },
     "execution_count": 95,
     "metadata": {},
     "output_type": "execute_result"
    }
   ],
   "source": [
    "xgb_cv.best_score_"
   ]
  },
  {
   "cell_type": "code",
   "execution_count": 96,
   "metadata": {},
   "outputs": [],
   "source": [
    "xgb_best = xgb_cv.best_estimator_"
   ]
  },
  {
   "cell_type": "code",
   "execution_count": 97,
   "metadata": {},
   "outputs": [],
   "source": [
    "y_train_preds = xgb_best.predict(X_o_train)\n",
    "y_test_preds = xgb_best.predict(X_test)"
   ]
  },
  {
   "cell_type": "code",
   "execution_count": 98,
   "metadata": {},
   "outputs": [
    {
     "data": {
      "image/png": "[encoded data removed]",
      "text/plain": [
       "<Figure size 1152x648 with 1 Axes>"
      ]
     },
     "metadata": {
      "needs_background": "light"
     },
     "output_type": "display_data"
    }
   ],
   "source": [
    "plot_importance(features, xgb_best, 35)"
   ]
  },
  {
   "cell_type": "code",
   "execution_count": 99,
   "metadata": {},
   "outputs": [
    {
     "name": "stdout",
     "output_type": "stream",
     "text": [
      "     Set    Recall  Precision\n",
      "0  Train  0.996403   0.996405\n",
      "1   Test  0.965616   0.966441\n"
     ]
    }
   ],
   "source": [
    "print(get_metrics(xgb_best, X_o_train, X_test, y_o_train, y_test))"
   ]
  },
  {
   "cell_type": "code",
   "execution_count": 101,
   "metadata": {},
   "outputs": [
    {
     "data": {
      "text/plain": [
       "XGBClassifier(base_score=0.5, booster='gbtree', colsample_bylevel=1,\n",
       "              colsample_bynode=1, colsample_bytree=1, eta=0.1,\n",
       "              eval_metric='merror', gamma=1, gpu_id=-1, importance_type='gain',\n",
       "              interaction_constraints='', learning_rate=0.100000001,\n",
       "              max_delta_step=0, max_depth=7, min_child_weight=1, missing=nan,\n",
       "              monotone_constraints='()', n_estimators=100, n_jobs=0,\n",
       "              num_class=5, num_parallel_tree=1, objective='multi:softprob',\n",
       "              random_state=2020, reg_alpha=0, reg_lambda=1,\n",
       "              scale_pos_weight=None, seed=2020, subsample=1, tree_method='hist',\n",
       "              validate_parameters=1, ...)"
      ]
     },
     "execution_count": 101,
     "metadata": {},
     "output_type": "execute_result"
    }
   ],
   "source": [
    "xgb_best = XGBClassifier(objective='multi:softmax', num_class = 5, \n",
    "                    eval_metric = 'merror', tree_method='hist', \n",
    "                    eta = 0.1, gamma = 1, max_depth = 7, seed=2020)\n",
    "xgb_best.fit(X_o_train, y_o_train)"
   ]
  },
  {
   "cell_type": "code",
   "execution_count": 102,
   "metadata": {},
   "outputs": [
    {
     "name": "stdout",
     "output_type": "stream",
     "text": [
      "     Set    Recall  Precision\n",
      "0  Train  0.997122   0.997144\n",
      "1   Test  0.968481   0.969506\n"
     ]
    }
   ],
   "source": [
    "print(get_metrics(xgb_best, X_o_train, X_test, y_o_train, y_test))"
   ]
  },
  {
   "cell_type": "code",
   "execution_count": 103,
   "metadata": {},
   "outputs": [
    {
     "data": {
      "image/png": "[encoded data removed]",
      "text/plain": [
       "<Figure size 1152x648 with 1 Axes>"
      ]
     },
     "metadata": {
      "needs_background": "light"
     },
     "output_type": "display_data"
    }
   ],
   "source": [
    "plot_importance(features, xgb_best, 35)"
   ]
  },
  {
   "cell_type": "markdown",
   "metadata": {},
   "source": [
    "# Sampling Validation"
   ]
  },
  {
   "cell_type": "code",
   "execution_count": null,
   "metadata": {},
   "outputs": [],
   "source": []
  }
 ],
 "metadata": {
  "kernelspec": {
   "display_name": "Python 3",
   "language": "python",
   "name": "python3"
  },
  "language_info": {
   "codemirror_mode": {
    "name": "ipython",
    "version": 3
   },
   "file_extension": ".py",
   "mimetype": "text/x-python",
   "name": "python",
   "nbconvert_exporter": "python",
   "pygments_lexer": "ipython3",
   "version": "3.7.4"
  }
 },
 "nbformat": 4,
 "nbformat_minor": 4
}
